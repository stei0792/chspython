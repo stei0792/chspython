{
 "cells": [
  {
   "cell_type": "markdown",
   "metadata": {},
   "source": [
    "# Simple Linear Regression"
   ]
  },
  {
   "cell_type": "code",
   "execution_count": 102,
   "metadata": {
    "collapsed": false
   },
   "outputs": [
    {
     "data": {
      "text/html": [
       "<div>\n",
       "<table border=\"1\" class=\"dataframe\">\n",
       "  <thead>\n",
       "    <tr style=\"text-align: right;\">\n",
       "      <th></th>\n",
       "      <th>Date</th>\n",
       "      <th>Crude</th>\n",
       "      <th>Urea</th>\n",
       "    </tr>\n",
       "  </thead>\n",
       "  <tbody>\n",
       "    <tr>\n",
       "      <th>0</th>\n",
       "      <td>1/5/1996</td>\n",
       "      <td>19.65</td>\n",
       "      <td>220</td>\n",
       "    </tr>\n",
       "    <tr>\n",
       "      <th>1</th>\n",
       "      <td>1/12/1996</td>\n",
       "      <td>17.98</td>\n",
       "      <td>220</td>\n",
       "    </tr>\n",
       "    <tr>\n",
       "      <th>2</th>\n",
       "      <td>1/19/1996</td>\n",
       "      <td>18.25</td>\n",
       "      <td>218</td>\n",
       "    </tr>\n",
       "    <tr>\n",
       "      <th>3</th>\n",
       "      <td>1/26/1996</td>\n",
       "      <td>17.36</td>\n",
       "      <td>215</td>\n",
       "    </tr>\n",
       "    <tr>\n",
       "      <th>4</th>\n",
       "      <td>2/2/1996</td>\n",
       "      <td>17.38</td>\n",
       "      <td>205</td>\n",
       "    </tr>\n",
       "  </tbody>\n",
       "</table>\n",
       "</div>"
      ],
      "text/plain": [
       "        Date  Crude  Urea\n",
       "0   1/5/1996  19.65   220\n",
       "1  1/12/1996  17.98   220\n",
       "2  1/19/1996  18.25   218\n",
       "3  1/26/1996  17.36   215\n",
       "4   2/2/1996  17.38   205"
      ]
     },
     "execution_count": 102,
     "metadata": {},
     "output_type": "execute_result"
    }
   ],
   "source": [
    "import pandas as pd\n",
    "import numpy as np\n",
    "import matplotlib.pyplot as plt\n",
    "import seaborn as sns\n",
    "%matplotlib inline\n",
    "from datetime import datetime\n",
    "import statsmodels.api as sm\n",
    "import statsmodels.formula.api as smf\n",
    "import matplotlib.pyplot as plt\n",
    "from statsmodels.sandbox.regression.predstd import wls_prediction_std\n",
    "from scipy.stats.stats import pearsonr\n",
    "import numpy as np\n",
    "from statsmodels import regression\n",
    "import math\n",
    "data = pd.read_csv(\"C:/Users/msteinme/Documents/CrudeUreaCorrelation.csv\")\n",
    "data.head()"
   ]
  },
  {
   "cell_type": "code",
   "execution_count": 103,
   "metadata": {
    "collapsed": false
   },
   "outputs": [
    {
     "name": "stdout",
     "output_type": "stream",
     "text": [
      "Date     datetime64[ns]\n",
      "Crude           float64\n",
      "Urea              int64\n",
      "dtype: object\n"
     ]
    },
    {
     "data": {
      "text/html": [
       "<div>\n",
       "<table border=\"1\" class=\"dataframe\">\n",
       "  <thead>\n",
       "    <tr style=\"text-align: right;\">\n",
       "      <th></th>\n",
       "      <th>Crude</th>\n",
       "      <th>Urea</th>\n",
       "    </tr>\n",
       "  </thead>\n",
       "  <tbody>\n",
       "    <tr>\n",
       "      <th>1996-01-05</th>\n",
       "      <td>19.65</td>\n",
       "      <td>220</td>\n",
       "    </tr>\n",
       "    <tr>\n",
       "      <th>1996-01-12</th>\n",
       "      <td>17.98</td>\n",
       "      <td>220</td>\n",
       "    </tr>\n",
       "  </tbody>\n",
       "</table>\n",
       "</div>"
      ],
      "text/plain": [
       "            Crude  Urea\n",
       "1996-01-05  19.65   220\n",
       "1996-01-12  17.98   220"
      ]
     },
     "execution_count": 103,
     "metadata": {},
     "output_type": "execute_result"
    }
   ],
   "source": [
    "data['Date'] = pd.to_datetime(data['Date'])\n",
    "date = data['Date']\n",
    "print(data.dtypes)\n",
    "data.index = data['Date'].values\n",
    "data = data.drop(['Date'],axis=1)\n",
    "data.head(2)"
   ]
  },
  {
   "cell_type": "code",
   "execution_count": 96,
   "metadata": {
    "collapsed": false,
    "scrolled": true
   },
   "outputs": [
    {
     "name": "stdout",
     "output_type": "stream",
     "text": [
      "0.757239751857\n"
     ]
    },
    {
     "data": {
      "text/html": [
       "<table class=\"simpletable\">\n",
       "<caption>OLS Regression Results</caption>\n",
       "<tr>\n",
       "  <th>Dep. Variable:</th>          <td>Urea</td>       <th>  R-squared:         </th> <td>   0.757</td> \n",
       "</tr>\n",
       "<tr>\n",
       "  <th>Model:</th>                   <td>OLS</td>       <th>  Adj. R-squared:    </th> <td>   0.757</td> \n",
       "</tr>\n",
       "<tr>\n",
       "  <th>Method:</th>             <td>Least Squares</td>  <th>  F-statistic:       </th> <td>   3325.</td> \n",
       "</tr>\n",
       "<tr>\n",
       "  <th>Date:</th>             <td>Tue, 21 Jun 2016</td> <th>  Prob (F-statistic):</th>  <td>  0.00</td>  \n",
       "</tr>\n",
       "<tr>\n",
       "  <th>Time:</th>                 <td>10:30:22</td>     <th>  Log-Likelihood:    </th> <td> -6000.5</td> \n",
       "</tr>\n",
       "<tr>\n",
       "  <th>No. Observations:</th>      <td>  1068</td>      <th>  AIC:               </th> <td>1.200e+04</td>\n",
       "</tr>\n",
       "<tr>\n",
       "  <th>Df Residuals:</th>          <td>  1066</td>      <th>  BIC:               </th> <td>1.201e+04</td>\n",
       "</tr>\n",
       "<tr>\n",
       "  <th>Df Model:</th>              <td>     1</td>      <th>                     </th>     <td> </td>    \n",
       "</tr>\n",
       "<tr>\n",
       "  <th>Covariance Type:</th>      <td>nonrobust</td>    <th>                     </th>     <td> </td>    \n",
       "</tr>\n",
       "</table>\n",
       "<table class=\"simpletable\">\n",
       "<tr>\n",
       "    <td></td>       <th>coef</th>     <th>std err</th>      <th>t</th>      <th>P>|t|</th> <th>[95.0% Conf. Int.]</th> \n",
       "</tr>\n",
       "<tr>\n",
       "  <th>const</th> <td>   52.6961</td> <td>    4.129</td> <td>   12.763</td> <td> 0.000</td> <td>   44.595    60.797</td>\n",
       "</tr>\n",
       "<tr>\n",
       "  <th>Crude</th> <td>    3.7797</td> <td>    0.066</td> <td>   57.664</td> <td> 0.000</td> <td>    3.651     3.908</td>\n",
       "</tr>\n",
       "</table>\n",
       "<table class=\"simpletable\">\n",
       "<tr>\n",
       "  <th>Omnibus:</th>       <td>360.468</td> <th>  Durbin-Watson:     </th> <td>   0.058</td>\n",
       "</tr>\n",
       "<tr>\n",
       "  <th>Prob(Omnibus):</th> <td> 0.000</td>  <th>  Jarque-Bera (JB):  </th> <td>1769.191</td>\n",
       "</tr>\n",
       "<tr>\n",
       "  <th>Skew:</th>          <td> 1.491</td>  <th>  Prob(JB):          </th> <td>    0.00</td>\n",
       "</tr>\n",
       "<tr>\n",
       "  <th>Kurtosis:</th>      <td> 8.555</td>  <th>  Cond. No.          </th> <td>    127.</td>\n",
       "</tr>\n",
       "</table>"
      ],
      "text/plain": [
       "<class 'statsmodels.iolib.summary.Summary'>\n",
       "\"\"\"\n",
       "                            OLS Regression Results                            \n",
       "==============================================================================\n",
       "Dep. Variable:                   Urea   R-squared:                       0.757\n",
       "Model:                            OLS   Adj. R-squared:                  0.757\n",
       "Method:                 Least Squares   F-statistic:                     3325.\n",
       "Date:                Tue, 21 Jun 2016   Prob (F-statistic):               0.00\n",
       "Time:                        10:30:22   Log-Likelihood:                -6000.5\n",
       "No. Observations:                1068   AIC:                         1.200e+04\n",
       "Df Residuals:                    1066   BIC:                         1.201e+04\n",
       "Df Model:                           1                                         \n",
       "Covariance Type:            nonrobust                                         \n",
       "==============================================================================\n",
       "                 coef    std err          t      P>|t|      [95.0% Conf. Int.]\n",
       "------------------------------------------------------------------------------\n",
       "const         52.6961      4.129     12.763      0.000        44.595    60.797\n",
       "Crude          3.7797      0.066     57.664      0.000         3.651     3.908\n",
       "==============================================================================\n",
       "Omnibus:                      360.468   Durbin-Watson:                   0.058\n",
       "Prob(Omnibus):                  0.000   Jarque-Bera (JB):             1769.191\n",
       "Skew:                           1.491   Prob(JB):                         0.00\n",
       "Kurtosis:                       8.555   Cond. No.                         127.\n",
       "==============================================================================\n",
       "\n",
       "Warnings:\n",
       "[1] Standard Errors assume that the covariance matrix of the errors is correctly specified.\n",
       "\"\"\""
      ]
     },
     "execution_count": 96,
     "metadata": {},
     "output_type": "execute_result"
    }
   ],
   "source": [
    "#fit a OLS model with all, see how R^2 changes\n",
    "X = data[['Crude']]\n",
    "Y = data[['Urea']]\n",
    "X= sm.add_constant(X)\n",
    "est= sm.OLS(Y,X).fit()\n",
    "r_square = est.rsquared\n",
    "print(r_square)\n",
    "est.summary()"
   ]
  },
  {
   "cell_type": "code",
   "execution_count": 104,
   "metadata": {
    "collapsed": false
   },
   "outputs": [
    {
     "name": "stdout",
     "output_type": "stream",
     "text": [
      "0.757239751857\n"
     ]
    },
    {
     "data": {
      "text/plain": [
       "<matplotlib.text.Text at 0xd5a4fd0>"
      ]
     },
     "execution_count": 104,
     "metadata": {},
     "output_type": "execute_result"
    },
    {
     "data": {
      "image/png": "[encoded data removed]",
      "text/plain": [
       "<matplotlib.figure.Figure at 0xd3ead30>"
      ]
     },
     "metadata": {},
     "output_type": "display_data"
    }
   ],
   "source": [
    "# We pick 100 hundred points equally spaced from the min to the max\n",
    "X = data[['Crude']]\n",
    "Y = data[['Urea']]\n",
    "X= sm.add_constant(X)\n",
    "est= sm.OLS(Y,X).fit()\n",
    "r_square = est.rsquared\n",
    "print(r_square)\n",
    "\n",
    "X_prime = np.linspace(data.Crude.min(), data.Crude.max(), 100)[:, np.newaxis]\n",
    "X_prime = sm.add_constant(X_prime)\n",
    "y_hat = est.predict(X_prime)\n",
    "plt.scatter(data.Crude,data.Urea,alpha=0.3)\n",
    "plt.xlabel('Crude')\n",
    "plt.ylabel('Urea')\n",
    "plt.plot(X_prime[:, 1], y_hat, 'r')\n",
    "plt.text(5,850,'R_squared:0.7572')"
   ]
  },
  {
   "cell_type": "code",
   "execution_count": 97,
   "metadata": {
    "collapsed": false
   },
   "outputs": [
    {
     "data": {
      "text/plain": [
       "<matplotlib.text.Text at 0xd42a748>"
      ]
     },
     "execution_count": 97,
     "metadata": {},
     "output_type": "execute_result"
    },
    {
     "data": {
      "image/png": "[encoded data removed]",
      "text/plain": [
       "<matplotlib.figure.Figure at 0xd404cc0>"
      ]
     },
     "metadata": {},
     "output_type": "display_data"
    }
   ],
   "source": [
    "# Plot data and use colormap to indicate the date each point corresponds to\n",
    "X = data[['Crude']]\n",
    "Y = data[['Urea']]\n",
    "cm = plt.get_cmap('jet')\n",
    "colors = np.linspace(0.1, 1, len(X))\n",
    "sc = plt.scatter(X, Y, s=30, c=colors, cmap=cm, edgecolor='k', alpha=0.7)\n",
    "cb = plt.colorbar(sc)\n",
    "cb.ax.set_yticklabels([str(p.date()) for p in X[::len(X)//9].index])\n",
    "plt.xlabel('Crude')\n",
    "plt.ylabel('Urea')"
   ]
  },
  {
   "cell_type": "code",
   "execution_count": 113,
   "metadata": {
    "collapsed": false
   },
   "outputs": [
    {
     "name": "stdout",
     "output_type": "stream",
     "text": [
      "0.00619630590883\n",
      "          Crude      Urea\n",
      "Crude  1.000000  0.870195\n",
      "Urea   0.870195  1.000000\n"
     ]
    }
   ],
   "source": [
    "from statsmodels.tsa.stattools import coint\n",
    "#show difference between cointegration and correlation\n",
    "X = data[['Crude']]\n",
    "Y = data[['Urea']]\n",
    "# compute the p-value of the cointegration test\n",
    "# will inform us as to whether the ratio between the 2 timeseries is stationary\n",
    "# around its mean\n",
    "score, pvalue, _ = coint(X,Y)\n",
    "print (pvalue) #shows they are cointegrated\n",
    "print(data.corr())"
   ]
  },
  {
   "cell_type": "markdown",
   "metadata": {},
   "source": [
    "### The regression model relies on several assumptions:\n",
    "#### •The independent variable is not random.\n",
    "#### •The variance of the error term is constant across observations. This is important for evaluating the goodness of the fit.\n",
    "#### •The errors are not autocorrelated. The Durbin-Watson statistic detects this; if it is close to 2, there is no autocorrelation.\n",
    "#### •The errors are normally distributed. If this does not hold, we cannot use some of the statistics, such as the F-test."
   ]
  },
  {
   "cell_type": "markdown",
   "metadata": {},
   "source": [
    "# Multiple Linear Regression"
   ]
  },
  {
   "cell_type": "code",
   "execution_count": 1,
   "metadata": {
    "collapsed": false
   },
   "outputs": [
    {
     "name": "stderr",
     "output_type": "stream",
     "text": [
      "C:\\Users\\msteinme\\AppData\\Local\\Continuum\\Anaconda3\\lib\\site-packages\\ipykernel\\__main__.py:18: SettingWithCopyWarning: \n",
      "A value is trying to be set on a copy of a slice from a DataFrame.\n",
      "Try using .loc[row_indexer,col_indexer] = value instead\n",
      "\n",
      "See the caveats in the documentation: http://pandas.pydata.org/pandas-docs/stable/indexing.html#indexing-view-versus-copy\n"
     ]
    }
   ],
   "source": [
    "import pandas as pd\n",
    "import numpy as np\n",
    "import matplotlib.pyplot as plt\n",
    "import seaborn as sns\n",
    "%matplotlib inline\n",
    "from datetime import datetime\n",
    "import statsmodels.api as sm\n",
    "import statsmodels.formula.api as smf\n",
    "import matplotlib.pyplot as plt\n",
    "from statsmodels.sandbox.regression.predstd import wls_prediction_std\n",
    "from scipy.stats.stats import pearsonr\n",
    "import numpy as np\n",
    "from statsmodels import regression\n",
    "import math\n",
    "data = pd.read_csv(\"C:/Users/msteinme/Documents/ureamorevariables.csv\")\n",
    "df_96on = data[['Date','Dollar','Crude','Corn','Gas','My_Coal','Monthly Imports','Urea_Prod','Urea_Inventory','UAN_Inventory','UAN','Urea']]\n",
    "from datetime import datetime\n",
    "df_96on['Date'] = pd.to_datetime(df_96on['Date'])\n",
    "date = df_96on['Date']\n",
    "#df_96on.index = df_96on['Date'].values\n",
    "#df_96on = df_96on.drop(['Date'],axis=1)\n",
    "#df_96on.head(2)"
   ]
  },
  {
   "cell_type": "code",
   "execution_count": 37,
   "metadata": {
    "collapsed": false
   },
   "outputs": [
    {
     "name": "stdout",
     "output_type": "stream",
     "text": [
      "[  8.89315702e-01   8.02325197e-01   2.02296043e-01   1.18464167e+00\n",
      "   6.49350374e+00  -1.19539059e-05  -3.26027522e-06]\n",
      "1280.62429219\n"
     ]
    },
    {
     "data": {
      "text/plain": [
       "0.85409186047777819"
      ]
     },
     "execution_count": 37,
     "metadata": {},
     "output_type": "execute_result"
    }
   ],
   "source": [
    "#linear regression using scikitlearn\n",
    "from sklearn.linear_model import LinearRegression\n",
    "from sklearn.cross_validation import train_test_split\n",
    "import numpy as np \n",
    "X = df_96on[['Dollar','Crude','Corn','My_Coal','Gas','Urea_Inventory','UAN_Inventory']].values\n",
    "y = df_96on['UAN'].values\n",
    "X_train, X_test, y_train, y_test= train_test_split(X,y,test_size=0.3,random_state=1)\n",
    "\n",
    "regr = LinearRegression()\n",
    "regr.fit(X_train,y_train) #should use X_train and y_train\n",
    "LinearRegression(fit_intercept=True)\n",
    "print (regr.coef_)\n",
    "# The mean square error\n",
    "print(np.mean((regr.predict(X_test) - y_test)**2))\n",
    "#explained variance score: 1 is perfect prediction\n",
    "regr.score(X_test,y_test)"
   ]
  },
  {
   "cell_type": "code",
   "execution_count": 139,
   "metadata": {
    "collapsed": false,
    "scrolled": true
   },
   "outputs": [
    {
     "name": "stdout",
     "output_type": "stream",
     "text": [
      "0.920881959899\n"
     ]
    },
    {
     "data": {
      "text/html": [
       "<table class=\"simpletable\">\n",
       "<caption>OLS Regression Results</caption>\n",
       "<tr>\n",
       "  <th>Dep. Variable:</th>          <td>Urea</td>       <th>  R-squared:         </th> <td>   0.921</td> \n",
       "</tr>\n",
       "<tr>\n",
       "  <th>Model:</th>                   <td>OLS</td>       <th>  Adj. R-squared:    </th> <td>   0.920</td> \n",
       "</tr>\n",
       "<tr>\n",
       "  <th>Method:</th>             <td>Least Squares</td>  <th>  F-statistic:       </th> <td>   1536.</td> \n",
       "</tr>\n",
       "<tr>\n",
       "  <th>Date:</th>             <td>Tue, 21 Jun 2016</td> <th>  Prob (F-statistic):</th>  <td>  0.00</td>  \n",
       "</tr>\n",
       "<tr>\n",
       "  <th>Time:</th>                 <td>11:50:46</td>     <th>  Log-Likelihood:    </th> <td> -5387.6</td> \n",
       "</tr>\n",
       "<tr>\n",
       "  <th>No. Observations:</th>      <td>  1065</td>      <th>  AIC:               </th> <td>1.079e+04</td>\n",
       "</tr>\n",
       "<tr>\n",
       "  <th>Df Residuals:</th>          <td>  1056</td>      <th>  BIC:               </th> <td>1.084e+04</td>\n",
       "</tr>\n",
       "<tr>\n",
       "  <th>Df Model:</th>              <td>     8</td>      <th>                     </th>     <td> </td>    \n",
       "</tr>\n",
       "<tr>\n",
       "  <th>Covariance Type:</th>      <td>nonrobust</td>    <th>                     </th>     <td> </td>    \n",
       "</tr>\n",
       "</table>\n",
       "<table class=\"simpletable\">\n",
       "<tr>\n",
       "         <td></td>           <th>coef</th>     <th>std err</th>      <th>t</th>      <th>P>|t|</th> <th>[95.0% Conf. Int.]</th> \n",
       "</tr>\n",
       "<tr>\n",
       "  <th>const</th>          <td>  137.7828</td> <td>   19.452</td> <td>    7.083</td> <td> 0.000</td> <td>   99.614   175.951</td>\n",
       "</tr>\n",
       "<tr>\n",
       "  <th>Dollar</th>         <td>   -0.9413</td> <td>    0.171</td> <td>   -5.496</td> <td> 0.000</td> <td>   -1.277    -0.605</td>\n",
       "</tr>\n",
       "<tr>\n",
       "  <th>Crude</th>          <td>    0.0328</td> <td>    0.109</td> <td>    0.301</td> <td> 0.763</td> <td>   -0.181     0.247</td>\n",
       "</tr>\n",
       "<tr>\n",
       "  <th>Corn</th>           <td>    0.0081</td> <td>    0.018</td> <td>    0.448</td> <td> 0.654</td> <td>   -0.028     0.044</td>\n",
       "</tr>\n",
       "<tr>\n",
       "  <th>Gas</th>            <td>   -0.2026</td> <td>    0.744</td> <td>   -0.272</td> <td> 0.786</td> <td>   -1.663     1.258</td>\n",
       "</tr>\n",
       "<tr>\n",
       "  <th>My_Coal</th>        <td>    0.2834</td> <td>    0.100</td> <td>    2.826</td> <td> 0.005</td> <td>    0.087     0.480</td>\n",
       "</tr>\n",
       "<tr>\n",
       "  <th>Urea_Inventory</th> <td> -7.41e-05</td> <td> 1.23e-05</td> <td>   -6.014</td> <td> 0.000</td> <td>-9.83e-05 -4.99e-05</td>\n",
       "</tr>\n",
       "<tr>\n",
       "  <th>UAN_Inventory</th>  <td> 9.095e-06</td> <td> 3.92e-06</td> <td>    2.319</td> <td> 0.021</td> <td>  1.4e-06  1.68e-05</td>\n",
       "</tr>\n",
       "<tr>\n",
       "  <th>UAN</th>            <td>    1.1220</td> <td>    0.033</td> <td>   34.422</td> <td> 0.000</td> <td>    1.058     1.186</td>\n",
       "</tr>\n",
       "</table>\n",
       "<table class=\"simpletable\">\n",
       "<tr>\n",
       "  <th>Omnibus:</th>       <td>274.771</td> <th>  Durbin-Watson:     </th> <td>   0.118</td>\n",
       "</tr>\n",
       "<tr>\n",
       "  <th>Prob(Omnibus):</th> <td> 0.000</td>  <th>  Jarque-Bera (JB):  </th> <td>1494.722</td>\n",
       "</tr>\n",
       "<tr>\n",
       "  <th>Skew:</th>          <td> 1.074</td>  <th>  Prob(JB):          </th> <td>    0.00</td>\n",
       "</tr>\n",
       "<tr>\n",
       "  <th>Kurtosis:</th>      <td> 8.391</td>  <th>  Cond. No.          </th> <td>1.97e+07</td>\n",
       "</tr>\n",
       "</table>"
      ],
      "text/plain": [
       "<class 'statsmodels.iolib.summary.Summary'>\n",
       "\"\"\"\n",
       "                            OLS Regression Results                            \n",
       "==============================================================================\n",
       "Dep. Variable:                   Urea   R-squared:                       0.921\n",
       "Model:                            OLS   Adj. R-squared:                  0.920\n",
       "Method:                 Least Squares   F-statistic:                     1536.\n",
       "Date:                Tue, 21 Jun 2016   Prob (F-statistic):               0.00\n",
       "Time:                        11:50:46   Log-Likelihood:                -5387.6\n",
       "No. Observations:                1065   AIC:                         1.079e+04\n",
       "Df Residuals:                    1056   BIC:                         1.084e+04\n",
       "Df Model:                           8                                         \n",
       "Covariance Type:            nonrobust                                         \n",
       "==================================================================================\n",
       "                     coef    std err          t      P>|t|      [95.0% Conf. Int.]\n",
       "----------------------------------------------------------------------------------\n",
       "const            137.7828     19.452      7.083      0.000        99.614   175.951\n",
       "Dollar            -0.9413      0.171     -5.496      0.000        -1.277    -0.605\n",
       "Crude              0.0328      0.109      0.301      0.763        -0.181     0.247\n",
       "Corn               0.0081      0.018      0.448      0.654        -0.028     0.044\n",
       "Gas               -0.2026      0.744     -0.272      0.786        -1.663     1.258\n",
       "My_Coal            0.2834      0.100      2.826      0.005         0.087     0.480\n",
       "Urea_Inventory  -7.41e-05   1.23e-05     -6.014      0.000     -9.83e-05 -4.99e-05\n",
       "UAN_Inventory   9.095e-06   3.92e-06      2.319      0.021       1.4e-06  1.68e-05\n",
       "UAN                1.1220      0.033     34.422      0.000         1.058     1.186\n",
       "==============================================================================\n",
       "Omnibus:                      274.771   Durbin-Watson:                   0.118\n",
       "Prob(Omnibus):                  0.000   Jarque-Bera (JB):             1494.722\n",
       "Skew:                           1.074   Prob(JB):                         0.00\n",
       "Kurtosis:                       8.391   Cond. No.                     1.97e+07\n",
       "==============================================================================\n",
       "\n",
       "Warnings:\n",
       "[1] Standard Errors assume that the covariance matrix of the errors is correctly specified.\n",
       "[2] The condition number is large, 1.97e+07. This might indicate that there are\n",
       "strong multicollinearity or other numerical problems.\n",
       "\"\"\""
      ]
     },
     "execution_count": 139,
     "metadata": {},
     "output_type": "execute_result"
    }
   ],
   "source": [
    "#fit a OLS model with all, see how R^2 changes\n",
    "X = df_96on[['Dollar','Crude','Corn','Gas','My_Coal','Urea_Inventory','UAN_Inventory','UAN']]\n",
    "Y = df_96on[['Urea']]\n",
    "X= sm.add_constant(X)\n",
    "est= sm.OLS(Y,X).fit()\n",
    "r_square = est.rsquared\n",
    "print(r_square)\n",
    "est.summary()"
   ]
  },
  {
   "cell_type": "code",
   "execution_count": 140,
   "metadata": {
    "collapsed": false
   },
   "outputs": [],
   "source": [
    "data = df_96on[['Dollar','Crude','Corn','Gas','My_Coal','Urea_Inventory','UAN_Inventory','UAN']]\n",
    "response = df_96on['Urea'] # need to have in the series format\n",
    "Y = np.array(Y)"
   ]
  },
  {
   "cell_type": "code",
   "execution_count": 141,
   "metadata": {
    "collapsed": true
   },
   "outputs": [],
   "source": [
    "#forward stepwise regression formula\n",
    "def forward_aic(response, data):\n",
    "    # This function will work with pandas dataframes and series\n",
    "    \n",
    "    # Initialize some variables\n",
    "    explanatory = list(data.columns)\n",
    "    selected = pd.Series(np.ones(data.shape[0]), name=\"Intercept\")\n",
    "    current_score, best_new_score = np.inf, np.inf\n",
    "    \n",
    "    # Loop while we haven't found a better model\n",
    "    while current_score == best_new_score and len(explanatory) != 0:\n",
    "        \n",
    "        scores_with_elements = []\n",
    "        count = 0\n",
    "        \n",
    "        # For each explanatory variable\n",
    "        for element in explanatory:\n",
    "            # Make a set of explanatory variables including our current best and the new one\n",
    "            tmp = pd.concat([selected, data[element]], axis=1)\n",
    "            # Test the set\n",
    "            result = regression.linear_model.OLS(Y, tmp).fit()\n",
    "            score = result.aic\n",
    "            scores_with_elements.append((score, element, count))\n",
    "            count += 1\n",
    "        \n",
    "        # Sort the scoring list\n",
    "        scores_with_elements.sort(reverse = True)\n",
    "        # Get the best new variable\n",
    "        best_new_score, best_element, index = scores_with_elements.pop()\n",
    "        if current_score > best_new_score:\n",
    "            # If it's better than the best add it to the set\n",
    "            explanatory.pop(index)\n",
    "            selected = pd.concat([selected, data[best_element]],axis=1)\n",
    "            current_score = best_new_score\n",
    "    # Return the final model\n",
    "    model = regression.linear_model.OLS(Y, selected).fit()\n",
    "    return model"
   ]
  },
  {
   "cell_type": "code",
   "execution_count": 157,
   "metadata": {
    "collapsed": false,
    "scrolled": true
   },
   "outputs": [
    {
     "data": {
      "text/html": [
       "<table class=\"simpletable\">\n",
       "<caption>OLS Regression Results</caption>\n",
       "<tr>\n",
       "  <th>Dep. Variable:</th>            <td>y</td>        <th>  R-squared:         </th> <td>   0.921</td> \n",
       "</tr>\n",
       "<tr>\n",
       "  <th>Model:</th>                   <td>OLS</td>       <th>  Adj. R-squared:    </th> <td>   0.920</td> \n",
       "</tr>\n",
       "<tr>\n",
       "  <th>Method:</th>             <td>Least Squares</td>  <th>  F-statistic:       </th> <td>   2463.</td> \n",
       "</tr>\n",
       "<tr>\n",
       "  <th>Date:</th>             <td>Tue, 21 Jun 2016</td> <th>  Prob (F-statistic):</th>  <td>  0.00</td>  \n",
       "</tr>\n",
       "<tr>\n",
       "  <th>Time:</th>                 <td>12:18:07</td>     <th>  Log-Likelihood:    </th> <td> -5388.0</td> \n",
       "</tr>\n",
       "<tr>\n",
       "  <th>No. Observations:</th>      <td>  1065</td>      <th>  AIC:               </th> <td>1.079e+04</td>\n",
       "</tr>\n",
       "<tr>\n",
       "  <th>Df Residuals:</th>          <td>  1059</td>      <th>  BIC:               </th> <td>1.082e+04</td>\n",
       "</tr>\n",
       "<tr>\n",
       "  <th>Df Model:</th>              <td>     5</td>      <th>                     </th>     <td> </td>    \n",
       "</tr>\n",
       "<tr>\n",
       "  <th>Covariance Type:</th>      <td>nonrobust</td>    <th>                     </th>     <td> </td>    \n",
       "</tr>\n",
       "</table>\n",
       "<table class=\"simpletable\">\n",
       "<tr>\n",
       "         <td></td>           <th>coef</th>     <th>std err</th>      <th>t</th>      <th>P>|t|</th> <th>[95.0% Conf. Int.]</th> \n",
       "</tr>\n",
       "<tr>\n",
       "  <th>Intercept</th>      <td>  140.2557</td> <td>   16.522</td> <td>    8.489</td> <td> 0.000</td> <td>  107.836   172.676</td>\n",
       "</tr>\n",
       "<tr>\n",
       "  <th>UAN</th>            <td>    1.1291</td> <td>    0.028</td> <td>   39.993</td> <td> 0.000</td> <td>    1.074     1.184</td>\n",
       "</tr>\n",
       "<tr>\n",
       "  <th>Dollar</th>         <td>   -0.9639</td> <td>    0.161</td> <td>   -5.996</td> <td> 0.000</td> <td>   -1.279    -0.648</td>\n",
       "</tr>\n",
       "<tr>\n",
       "  <th>Urea_Inventory</th> <td>-7.571e-05</td> <td> 1.12e-05</td> <td>   -6.758</td> <td> 0.000</td> <td>-9.77e-05 -5.37e-05</td>\n",
       "</tr>\n",
       "<tr>\n",
       "  <th>My_Coal</th>        <td>    0.3164</td> <td>    0.087</td> <td>    3.655</td> <td> 0.000</td> <td>    0.147     0.486</td>\n",
       "</tr>\n",
       "<tr>\n",
       "  <th>UAN_Inventory</th>  <td> 9.864e-06</td> <td> 3.58e-06</td> <td>    2.752</td> <td> 0.006</td> <td> 2.83e-06  1.69e-05</td>\n",
       "</tr>\n",
       "</table>\n",
       "<table class=\"simpletable\">\n",
       "<tr>\n",
       "  <th>Omnibus:</th>       <td>274.048</td> <th>  Durbin-Watson:     </th> <td>   0.118</td>\n",
       "</tr>\n",
       "<tr>\n",
       "  <th>Prob(Omnibus):</th> <td> 0.000</td>  <th>  Jarque-Bera (JB):  </th> <td>1496.081</td>\n",
       "</tr>\n",
       "<tr>\n",
       "  <th>Skew:</th>          <td> 1.070</td>  <th>  Prob(JB):          </th> <td>    0.00</td>\n",
       "</tr>\n",
       "<tr>\n",
       "  <th>Kurtosis:</th>      <td> 8.398</td>  <th>  Cond. No.          </th> <td>1.67e+07</td>\n",
       "</tr>\n",
       "</table>"
      ],
      "text/plain": [
       "<class 'statsmodels.iolib.summary.Summary'>\n",
       "\"\"\"\n",
       "                            OLS Regression Results                            \n",
       "==============================================================================\n",
       "Dep. Variable:                      y   R-squared:                       0.921\n",
       "Model:                            OLS   Adj. R-squared:                  0.920\n",
       "Method:                 Least Squares   F-statistic:                     2463.\n",
       "Date:                Tue, 21 Jun 2016   Prob (F-statistic):               0.00\n",
       "Time:                        12:18:07   Log-Likelihood:                -5388.0\n",
       "No. Observations:                1065   AIC:                         1.079e+04\n",
       "Df Residuals:                    1059   BIC:                         1.082e+04\n",
       "Df Model:                           5                                         \n",
       "Covariance Type:            nonrobust                                         \n",
       "==================================================================================\n",
       "                     coef    std err          t      P>|t|      [95.0% Conf. Int.]\n",
       "----------------------------------------------------------------------------------\n",
       "Intercept        140.2557     16.522      8.489      0.000       107.836   172.676\n",
       "UAN                1.1291      0.028     39.993      0.000         1.074     1.184\n",
       "Dollar            -0.9639      0.161     -5.996      0.000        -1.279    -0.648\n",
       "Urea_Inventory -7.571e-05   1.12e-05     -6.758      0.000     -9.77e-05 -5.37e-05\n",
       "My_Coal            0.3164      0.087      3.655      0.000         0.147     0.486\n",
       "UAN_Inventory   9.864e-06   3.58e-06      2.752      0.006      2.83e-06  1.69e-05\n",
       "==============================================================================\n",
       "Omnibus:                      274.048   Durbin-Watson:                   0.118\n",
       "Prob(Omnibus):                  0.000   Jarque-Bera (JB):             1496.081\n",
       "Skew:                           1.070   Prob(JB):                         0.00\n",
       "Kurtosis:                       8.398   Cond. No.                     1.67e+07\n",
       "==============================================================================\n",
       "\n",
       "Warnings:\n",
       "[1] Standard Errors assume that the covariance matrix of the errors is correctly specified.\n",
       "[2] The condition number is large, 1.67e+07. This might indicate that there are\n",
       "strong multicollinearity or other numerical problems.\n",
       "\"\"\""
      ]
     },
     "execution_count": 157,
     "metadata": {},
     "output_type": "execute_result"
    }
   ],
   "source": [
    "#results of stepwise regression \n",
    "result = forward_aic(Y, data)\n",
    "result.summary()"
   ]
  },
  {
   "cell_type": "markdown",
   "metadata": {},
   "source": [
    "#### The above model has a kurtosis > 3 so it is highly peaked and has fat tails, Prob(JB) < 0.05 likely model doesn't follow a normal distribution, DW less than 2 so positive autocorrelation"
   ]
  },
  {
   "cell_type": "code",
   "execution_count": 143,
   "metadata": {
    "collapsed": false
   },
   "outputs": [
    {
     "name": "stdout",
     "output_type": "stream",
     "text": [
      "Parameters:  Intercept         140.255724\n",
      "UAN                 1.129059\n",
      "Dollar             -0.963898\n",
      "Urea_Inventory     -0.000076\n",
      "My_Coal             0.316388\n",
      "UAN_Inventory       0.000010\n",
      "dtype: float64\n",
      "Standard errors:  Intercept         16.522223\n",
      "UAN                0.028231\n",
      "Dollar             0.160769\n",
      "Urea_Inventory     0.000011\n",
      "My_Coal            0.086556\n",
      "UAN_Inventory      0.000004\n",
      "dtype: float64\n",
      "Predicted values:  [ 162.8798661   163.93553373  163.5091453  ...,  254.5370451   253.96381018\n",
      "  248.49063301]\n"
     ]
    }
   ],
   "source": [
    "print('Parameters: ', result.params)\n",
    "print('Standard errors: ', result.bse)\n",
    "print('Predicted values: ', result.predict())"
   ]
  },
  {
   "cell_type": "code",
   "execution_count": 145,
   "metadata": {
    "collapsed": false,
    "scrolled": false
   },
   "outputs": [
    {
     "data": {
      "image/png": "[encoded data removed]",
      "text/plain": [
       "<matplotlib.figure.Figure at 0xe917eb8>"
      ]
     },
     "metadata": {},
     "output_type": "display_data"
    }
   ],
   "source": [
    "from statsmodels.graphics.regressionplots import plot_leverage_resid2\n",
    "fig, ax = plt.subplots(figsize=(8,6))\n",
    "fig = plot_leverage_resid2(result, ax = ax)\n"
   ]
  },
  {
   "cell_type": "markdown",
   "metadata": {},
   "source": [
    "### Multicollinearity tests"
   ]
  },
  {
   "cell_type": "code",
   "execution_count": 147,
   "metadata": {
    "collapsed": false
   },
   "outputs": [
    {
     "name": "stdout",
     "output_type": "stream",
     "text": [
      "16722602.828\n",
      "12.500000000000007\n"
     ]
    }
   ],
   "source": [
    "#multicollinearity condition number, If the Condition Number is above 30\n",
    "# the regression may have significant multicollinearity\n",
    "print(np.linalg.cond(result.model.exog))\n",
    "VIF = 1/(1-0.920) #1/1-R2 adj\n",
    "print(VIF) #greater than 10 so bad"
   ]
  },
  {
   "cell_type": "markdown",
   "metadata": {},
   "source": [
    "### Heteroskedascity tests"
   ]
  },
  {
   "cell_type": "code",
   "execution_count": 153,
   "metadata": {
    "collapsed": false
   },
   "outputs": [
    {
     "name": "stdout",
     "output_type": "stream",
     "text": [
      "['Lagrange multiplier statistic', 'p-value', 'f-value', 'f p-value'] (219.89963321848114, 1.5612348403589525e-45, 55.111492251564869, 5.715365281607304e-51)\n"
     ]
    }
   ],
   "source": [
    "import statsmodels.stats.api as sms\n",
    "name = ['Lagrange multiplier statistic', 'p-value',\n",
    "        'f-value', 'f p-value']\n",
    "test = sms.het_breushpagan(result.resid, result.model.exog)\n",
    "print(name,test)"
   ]
  },
  {
   "cell_type": "code",
   "execution_count": 154,
   "metadata": {
    "collapsed": false
   },
   "outputs": [
    {
     "name": "stdout",
     "output_type": "stream",
     "text": [
      "['F statistic', 'p-value'] (8.9638990213117484, 6.8564292455509746e-119, 'increasing')\n"
     ]
    }
   ],
   "source": [
    "name = ['F statistic', 'p-value']\n",
    "test = sms.het_goldfeldquandt(result.resid, result.model.exog)\n",
    "print(name, test)"
   ]
  },
  {
   "cell_type": "markdown",
   "metadata": {},
   "source": [
    "### Other"
   ]
  },
  {
   "cell_type": "code",
   "execution_count": 137,
   "metadata": {
    "collapsed": false
   },
   "outputs": [
    {
     "name": "stdout",
     "output_type": "stream",
     "text": [
      "Optimal number of features: 5\n",
      "[array([ True,  True,  True,  True,  True, False, False], dtype=bool)]\n",
      "[1 1 1 1 1 2 3]\n",
      "RFECV(cv=10,\n",
      "   estimator=LinearRegression(copy_X=True, fit_intercept=True, n_jobs=1, normalize=False),\n",
      "   estimator_params=None, scoring='mean_squared_error', step=1, verbose=0)\n"
     ]
    },
    {
     "name": "stderr",
     "output_type": "stream",
     "text": [
      "C:\\Users\\msteinme\\AppData\\Local\\Continuum\\Anaconda3\\lib\\site-packages\\sklearn\\utils\\validation.py:515: DataConversionWarning: A column-vector y was passed when a 1d array was expected. Please change the shape of y to (n_samples, ), for example using ravel().\n",
      "  y = column_or_1d(y, warn=True)\n"
     ]
    }
   ],
   "source": [
    "from sklearn.linear_model import LinearRegression\n",
    "from sklearn.metrics import mean_squared_error\n",
    "from sklearn.feature_selection import SelectFromModel\n",
    "from sklearn.feature_selection import RFECV\n",
    "X = df_96on[['Dollar','Crude','Corn','Gas','My_Coal','Urea_Inventory','UAN_Inventory']]\n",
    "Y = df_96on[['UAN']]\n",
    "#order is 'Dollar','Crude','Corn','Gas','My_Coal','Urea_Inventory','UAN_Inventory'\n",
    "regression = LinearRegression()\n",
    "selector = RFECV(estimator=regression, cv=10,\n",
    "   scoring='mean_squared_error')\n",
    "selector.fit(X, Y)\n",
    "\n",
    "sfm = SelectFromModel(regression, threshold = 0.25)\n",
    "print(\"Optimal number of features: %d\" \n",
    "   % selector.n_features_)\n",
    "print ([selector.support_])\n",
    "print(selector.ranking_)\n",
    "print(selector) \n",
    "#indicating using dollar, crude, corn, gas, coal"
   ]
  },
  {
   "cell_type": "code",
   "execution_count": 124,
   "metadata": {
    "collapsed": true
   },
   "outputs": [],
   "source": [
    "def find_cointegrated_pairs(data):\n",
    "    n = data.shape[1]\n",
    "    score_matrix = np.zeros((n, n))\n",
    "    pvalue_matrix = np.ones((n, n))\n",
    "    keys = data.keys()\n",
    "    pairs = []\n",
    "    for i in range(n):\n",
    "        for j in range(i+1, n):\n",
    "            S1 = data[keys[i]]\n",
    "            S2 = data[keys[j]]\n",
    "            result = coint(S1, S2)\n",
    "            score = result[0]\n",
    "            pvalue = result[1]\n",
    "            score_matrix[i, j] = score\n",
    "            pvalue_matrix[i, j] = pvalue\n",
    "            if pvalue < 0.05:\n",
    "                pairs.append((keys[i], keys[j]))\n",
    "    return score_matrix, pvalue_matrix, pairs"
   ]
  },
  {
   "cell_type": "code",
   "execution_count": 133,
   "metadata": {
    "collapsed": false
   },
   "outputs": [
    {
     "name": "stdout",
     "output_type": "stream",
     "text": [
      "[('Crude', 'My_Coal'), ('Crude', 'UAN'), ('Corn', 'My_Coal'), ('Corn', 'UAN'), ('My_Coal', 'UAN'), ('Urea_Inventory', 'UAN_Inventory'), ('Urea_Inventory', 'UAN'), ('UAN_Inventory', 'UAN')]\n"
     ]
    },
    {
     "data": {
      "image/png": "[encoded data removed]",
      "text/plain": [
       "<matplotlib.figure.Figure at 0xeaa6e10>"
      ]
     },
     "metadata": {},
     "output_type": "display_data"
    }
   ],
   "source": [
    "#cointegration heat map\n",
    "#cointegrated timeseries might not necessarily follow a similar path to a same destination, \n",
    "#but they both end up at this destination on expectation.\n",
    "cols= ['Dollar','Crude','Corn','Gas','My_Coal','Urea_Inventory','UAN_Inventory','UAN']\n",
    "scores, pvalues, pairs = find_cointegrated_pairs(data)\n",
    "import seaborn\n",
    "seaborn.heatmap(pvalues, yticklabels=cols,xticklabels=cols,cmap='RdBu_r' \n",
    "                , mask = (pvalues >= 0.95)\n",
    "                )\n",
    "print (pairs)"
   ]
  },
  {
   "cell_type": "code",
   "execution_count": 83,
   "metadata": {
    "collapsed": false
   },
   "outputs": [
    {
     "name": "stdout",
     "output_type": "stream",
     "text": [
      "Excess kurtosis of Urea:  [-1.04061198  2.08009794]\n"
     ]
    }
   ],
   "source": [
    "import scipy.stats as stats\n",
    "print (\"Excess kurtosis of Model: \", stats.kurtosis(data)) #x variables then y variable"
   ]
  },
  {
   "cell_type": "code",
   "execution_count": 99,
   "metadata": {
    "collapsed": false
   },
   "outputs": [
    {
     "name": "stdout",
     "output_type": "stream",
     "text": [
      "sample standard deviation of urea:  Urea    135.278206\n",
      "dtype: float64\n",
      "standard error of urea:  [ 4.13944588]\n",
      "95% confidence interval: (array([ 250.26888166]), array([ 268.99703594]))\n",
      "95% CI assuming normality:  (array([ 251.51979397]), array([ 267.74612364]))\n",
      "spearman rank coefficient:  SpearmanrResult(correlation=0.90489134624956868, pvalue=0.0)\n"
     ]
    }
   ],
   "source": [
    "# showing how to do confidence intervals and etc of urea\n",
    "mean_urea = np.mean(Y)\n",
    "SE = stats.sem(Y, ddof=0)\n",
    "print ('sample standard deviation of urea: ', np.std(Y))\n",
    "print('standard error of urea: ',stats.sem(Y, ddof=0))\n",
    "print ('95% confidence interval:', stats.t.interval(0.95, df = 9, loc=mean_urea, scale=SE))\n",
    "print ('95% CI assuming normality: ',stats.norm.interval(0.95, loc=mean_urea, scale=SE))\n",
    "#print ('spearman rank coefficient: ', stats.spearmanr(data))"
   ]
  },
  {
   "cell_type": "code",
   "execution_count": 101,
   "metadata": {
    "collapsed": false
   },
   "outputs": [
    {
     "name": "stdout",
     "output_type": "stream",
     "text": [
      "0.00619630590883\n"
     ]
    }
   ],
   "source": [
    "from statsmodels.tsa.stattools import coint\n",
    "# compute the p-value of the cointegration test\n",
    "# will inform us as to whether the ratio between the 2 timeseries is stationary\n",
    "# around its mean\n",
    "score, pvalue, _ = coint(X,Y)\n",
    "print (pvalue)"
   ]
  },
  {
   "cell_type": "markdown",
   "metadata": {},
   "source": [
    "# Ridge and Lasso Regression\n",
    "\n",
    "### Ridge Regression: Performs L2 regularization, i.e. adds penalty equivalent to square of the magnitude of coefficients and Minimization objective = LS Obj + α * (sum of square of coefficients)\n",
    "### Lasso Regression: ◦Performs L1 regularization, i.e. adds penalty equivalent to absolute value of the magnitude of coefficients and Minimization objective = LS Obj + α * (sum of absolute value of coefficients)\n",
    "##### http://www.analyticsvidhya.com/blog/2016/01/complete-tutorial-ridge-lasso-regression-python/"
   ]
  },
  {
   "cell_type": "code",
   "execution_count": 20,
   "metadata": {
    "collapsed": false
   },
   "outputs": [
    {
     "name": "stdout",
     "output_type": "stream",
     "text": [
      "Lasso(alpha=0.1, copy_X=True, fit_intercept=True, max_iter=1000,\n",
      "   normalize=False, positive=False, precompute=False, random_state=None,\n",
      "   selection='cyclic', tol=0.0001, warm_start=False)\n",
      "r^2 on test data : 0.969016\n",
      "[  8.85509241e-01   8.03963333e-01   2.01827562e-01   1.18453088e+00\n",
      "   6.45689719e+00  -1.17383030e-05  -3.34380594e-06]\n",
      "-104.723557059\n"
     ]
    }
   ],
   "source": [
    "# Lasso\n",
    "from sklearn.ensemble import RandomForestRegressor\n",
    "from sklearn.cross_validation import train_test_split\n",
    "from sklearn.metrics import mean_squared_error\n",
    "from sklearn.metrics import r2_score\n",
    "from sklearn.linear_model import Lasso\n",
    "from sklearn.ensemble import RandomForestRegressor\n",
    "from sklearn.cross_validation import train_test_split\n",
    "from sklearn.metrics import mean_squared_error\n",
    "from sklearn.metrics import r2_score\n",
    "X = df_96on[['Dollar','Crude','Corn','My_Coal','Gas','Urea_Inventory','UAN_Inventory']].values\n",
    "y = df_96on['UAN'].values\n",
    "X_train, X_test, y_train, y_test= train_test_split(X,y,test_size=0.3,random_state=1)\n",
    "\n",
    "\n",
    "alpha = 0.1  #the higher this gets the less features chosen\n",
    "lasso = Lasso(alpha=alpha)\n",
    "\n",
    "y_pred_lasso = lasso.fit(X_train, y_train).predict(X_test)\n",
    "print (lasso)\n",
    "print (\"r^2 on test data : %f\" % (1 - np.linalg.norm(y_test - y_pred_lasso)**2\n",
    "                                      / np.linalg.norm(y_test)**2))\n",
    "print(lasso.coef_)\n",
    "print(lasso.intercept_)"
   ]
  },
  {
   "cell_type": "code",
   "execution_count": 18,
   "metadata": {
    "collapsed": false
   },
   "outputs": [
    {
     "name": "stdout",
     "output_type": "stream",
     "text": [
      "[ -0.00000000e+00   0.00000000e+00   0.00000000e+00   0.00000000e+00\n",
      "   0.00000000e+00  -1.25383211e-04  -7.65866857e-05]\n",
      "LassoCV(alphas=None, copy_X=True, cv=None, eps=0.001, fit_intercept=True,\n",
      "    max_iter=1000, n_alphas=100, n_jobs=1, normalize=False, positive=False,\n",
      "    precompute='auto', random_state=None, selection='cyclic', tol=0.0001,\n",
      "    verbose=False)\n",
      "None\n"
     ]
    }
   ],
   "source": [
    "from sklearn import linear_model\n",
    "from sklearn.cross_validation import train_test_split\n",
    "\n",
    "X = df_96on[['Dollar','Crude','Corn','My_Coal','Gas','Urea_Inventory','UAN_Inventory']].values\n",
    "y = df_96on['UAN'].values\n",
    "X_train, X_test, y_train, y_test= train_test_split(X,y,test_size=0.3,random_state=1)\n",
    "\n",
    "model = linear_model.LassoCV() #1 is the default\n",
    "results = model.fit(X,y)\n",
    "print(model.coef_)\n",
    "print(results)\n",
    "print(model.alphas)"
   ]
  },
  {
   "cell_type": "code",
   "execution_count": 171,
   "metadata": {
    "collapsed": false,
    "scrolled": true
   },
   "outputs": [
    {
     "name": "stdout",
     "output_type": "stream",
     "text": [
      "[  8.89300553e-01   8.02343877e-01   2.02291786e-01   1.18464306e+00\n",
      "   6.49318093e+00  -1.19520455e-05  -3.26102158e-06]\n",
      "-105.321997328\n"
     ]
    },
    {
     "data": {
      "text/plain": [
       "array([  77.86209134,  176.81879254,  215.35363795,  113.164508  ,\n",
       "        192.41557663,  116.84461992,   83.77177398,  149.53041392,\n",
       "        103.39370504,   92.63550218,   82.27132141,  309.9322171 ,\n",
       "         70.43167667,  195.75084107,  177.90488395,  282.19867632,\n",
       "        349.10022626,   86.46113874,  182.75126004,  256.28707877,\n",
       "        110.22142987,  181.83028215,  331.26331883,   96.58889043,\n",
       "        200.39578831,   88.83088667,  308.23109501,  102.60568024,\n",
       "        316.99824467,  169.40534442,   91.43120965,   90.96927468,\n",
       "        170.83909753,  231.13788523,   86.40929964,  219.66297408,\n",
       "         79.98979973,  187.816276  ,   97.16279767,  100.29356699,\n",
       "         91.48349474,   94.01963175,  173.71744411,  198.27892109,\n",
       "        107.93108533,   77.21031034,  138.03435643,  163.55368766,\n",
       "         84.50129618,  312.12301203,  262.02270599,  288.5518434 ,\n",
       "        172.43475254,  291.08636087,  164.41359083,  235.12243646,\n",
       "        201.10890371,  266.89644287,  166.40884689,  274.47151648,\n",
       "         80.11535409,  258.30291263,  168.79316892,  468.06677656,\n",
       "        186.97728504,  168.5673124 ,  133.81705423,   69.70861241,\n",
       "         94.16208011,  361.08943043,  363.78720557,  188.84585892,\n",
       "        152.39702747,   99.01933344,  181.41493295,   84.74298321,\n",
       "        140.80747392,   85.03723399,   90.68306792,  172.13983096,\n",
       "         87.09648103,  101.02774278,  256.32978836,  330.33806227,\n",
       "        117.63978502,   78.75543459,  245.01266909,  203.68154491,\n",
       "        168.56970838,  124.06397273,   86.6164995 ,   89.07482684,\n",
       "        201.64447816,  268.65136034,   61.0687275 ,   72.58321077,\n",
       "        488.04883441,  189.93317493,  253.66310415,   93.16511107,\n",
       "        206.41786365,  160.05767885,  163.889097  ,  249.64956369,\n",
       "        156.43377261,   85.45331917,   96.8623322 ,  131.56592452,\n",
       "        176.65882889,   91.40335273,  211.74281805,  197.23536832,\n",
       "        183.85099837,   88.05489508,  138.72921986,  188.33775552,\n",
       "        346.22665848,  327.1610121 ,  355.04520268,  220.09309874,\n",
       "        195.96061784,  109.04970276,  192.9699459 ,  177.4921405 ,\n",
       "        291.62887012,  258.47616758,  176.54364547,  168.06974334,\n",
       "        117.94602905,  128.82450592,  176.924279  ,  119.26364459,\n",
       "         78.83917557,  273.99308515,   85.62424345,  310.94082789,\n",
       "        512.83041391,  342.40442911,  116.92806854,   96.45979372,\n",
       "        140.52675176,   61.46070746,  181.36116405,  143.2090771 ,\n",
       "        193.03872013,  162.95212133,  188.09598702,  294.02127056,\n",
       "        123.09720534,   80.83515854,  171.60286929,   92.81688225,\n",
       "        109.57785956,  327.24451481,  242.05231726,  111.64968028,\n",
       "         92.57917645,  273.1807576 ,   83.96016884,   96.03728084,\n",
       "        104.48012186,   94.23903243,  253.40706497,  120.59577313,\n",
       "        386.30008592,  345.03601009,  147.87576148,   95.48563598,\n",
       "        192.70610824,  159.74228179,  156.35715561,  244.4140021 ,\n",
       "         96.43285632,  368.49469806,  149.6144755 ,  152.29922839,\n",
       "         84.52335416,  186.74875442,   96.24775418,  214.44320987,\n",
       "         85.31345506,  252.00449636,  197.83295182,   73.17484696,\n",
       "        316.89659548,  166.65493032,  202.07903904,  255.91977007,\n",
       "        108.35277337,   83.1590413 ,  167.89868386,  208.49877385,\n",
       "        489.76378714,   84.21772118,   94.40121507,  100.89256367,\n",
       "        205.36706302,  232.49259721,  286.34163125,   85.69505769,\n",
       "         96.98369015,  213.63296047,  177.41412423,  109.11390215,\n",
       "         84.20992074,  196.75218512,  398.67111613,   99.45547538,\n",
       "        101.74626705,  137.11852272,  141.13245082,  209.95686579,\n",
       "         98.02389616,  292.17617404,   86.50685314,  151.37281452,\n",
       "        164.64960944,  314.76663544,   96.00428719,  105.33582429,\n",
       "        196.2037536 ,   87.92942788,  148.06460888,   61.63327487,\n",
       "        107.68374717,  266.99225186,   89.03296301,   96.58071558,\n",
       "        259.33920386,  210.15301262,  179.70118918,  105.85700103,\n",
       "        184.77954053,  304.90656271,  326.02027057,  254.86334183,\n",
       "        102.71002021,   93.66885638,  103.20092112,  205.28571096,\n",
       "         88.41843451,  257.81991813,   83.08732859,   79.97359428,\n",
       "        210.35048048,  189.41091713,  215.16857985,  132.53118251,\n",
       "        291.71854546,  175.5306026 ,  176.04672968,  257.97119367,\n",
       "        309.09101815,  119.07104471,  159.07752819,  284.91010493,\n",
       "         96.80954891,  408.36238406,  190.89349513,  202.5719441 ,\n",
       "        113.733074  ,  206.51148276,  101.27219379,  206.80047769,\n",
       "        170.08252815,  262.64309824,  195.16140714,  246.57380458,\n",
       "        310.0667187 ,  162.66282715,  274.29053332,  202.05479274,\n",
       "        204.73785025,  166.46163143,  240.13475003,  216.54098498,\n",
       "        109.18672007,   62.67593888,  308.55131788,  212.2216947 ,\n",
       "        208.39644252,  159.47551555,  325.49160869,   85.53097053,\n",
       "        332.93892687,  156.74088582,  114.37557681,  107.96715009,\n",
       "        101.23610975,  124.23099051,  191.89954598,  120.72656856,\n",
       "        217.46135388,  109.59727928,  185.63414662,  252.15464724,\n",
       "        113.63418088,  326.22373875,  117.31856255,  316.85624645,\n",
       "        179.28446575,  197.58452573,  194.22458346,  254.56952705,\n",
       "         86.82398471,  335.17801788,   84.36596879,  155.61979006,\n",
       "        126.46874316,  257.75268637,  113.84422538,  173.99796856,\n",
       "        105.37783464,  200.95536434,  335.20725581,  180.38235664,\n",
       "         88.56861992,  153.89704581,  105.33420234,  255.62746975])"
      ]
     },
     "execution_count": 171,
     "metadata": {},
     "output_type": "execute_result"
    }
   ],
   "source": [
    "# Ridge regression\n",
    "from sklearn.linear_model import Ridge\n",
    "\n",
    "clf = Ridge(alpha=0.1)\n",
    "y_pred_ridge = clf.fit(X_train, y_train).predict(X_test)\n",
    "print(clf.coef_)\n",
    "print(clf.intercept_)\n",
    "y_pred_ridge"
   ]
  },
  {
   "cell_type": "code",
   "execution_count": 185,
   "metadata": {
    "collapsed": false
   },
   "outputs": [
    {
     "name": "stdout",
     "output_type": "stream",
     "text": [
      "BayesianRidge(alpha_1=1e-06, alpha_2=1e-06, compute_score=False, copy_X=True,\n",
      "       fit_intercept=True, lambda_1=1e-06, lambda_2=1e-06, n_iter=300,\n",
      "       normalize=False, tol=0.001, verbose=False)\n",
      "[ -2.30079801e-02   9.23266062e-01   2.30697636e-01   1.60832761e+00\n",
      "   5.42457990e+00  -8.58958775e-05   3.20586953e-07]\n",
      "41.6391009643\n"
     ]
    },
    {
     "name": "stderr",
     "output_type": "stream",
     "text": [
      "C:\\Users\\msteinme\\AppData\\Local\\Continuum\\Anaconda3\\lib\\site-packages\\sklearn\\utils\\validation.py:515: DataConversionWarning: A column-vector y was passed when a 1d array was expected. Please change the shape of y to (n_samples, ), for example using ravel().\n",
      "  y = column_or_1d(y, warn=True)\n"
     ]
    }
   ],
   "source": [
    "#Bayesian Ridge Regression\n",
    "from sklearn import linear_model\n",
    "X = df_96on[['Dollar','Crude','Corn','My_Coal','Gas','Urea_Inventory','UAN_Inventory']].values\n",
    "y = df_96on['UAN'].values\n",
    "clf = linear_model.BayesianRidge()\n",
    "print(clf.fit(X, Y))\n",
    "print(clf.coef_)\n",
    "print(clf.intercept_)"
   ]
  },
  {
   "cell_type": "code",
   "execution_count": 3,
   "metadata": {
    "collapsed": false
   },
   "outputs": [
    {
     "name": "stdout",
     "output_type": "stream",
     "text": [
      "RidgeCV(alphas=array([ 0.08,  0.09,  0.1 ,  0.11,  0.12]), cv=None,\n",
      "    fit_intercept=True, gcv_mode=None, normalize=False, scoring=None,\n",
      "    store_cv_values=False)\n"
     ]
    },
    {
     "data": {
      "text/plain": [
       "0.12"
      ]
     },
     "execution_count": 3,
     "metadata": {},
     "output_type": "execute_result"
    }
   ],
   "source": [
    "#chooses best alpha to use in model for ridge (cross validation)\n",
    "from sklearn.linear_model import RidgeCV\n",
    "rcv2 = RidgeCV(alphas=np.array([.08, .09, .1, .11, .12]))\n",
    "print(rcv2.fit(X,y))\n",
    "rcv2.alpha_"
   ]
  },
  {
   "cell_type": "code",
   "execution_count": 4,
   "metadata": {
    "collapsed": false
   },
   "outputs": [
    {
     "name": "stdout",
     "output_type": "stream",
     "text": [
      "LassoCV(alphas=array([ 0.08,  0.09,  0.1 ,  0.11,  0.12]), copy_X=True,\n",
      "    cv=None, eps=0.001, fit_intercept=True, max_iter=1000, n_alphas=100,\n",
      "    n_jobs=1, normalize=False, positive=False, precompute='auto',\n",
      "    random_state=None, selection='cyclic', tol=0.0001, verbose=False)\n",
      "0.12\n"
     ]
    }
   ],
   "source": [
    "#chooses best alpha to use in model for lasso (cross validation)\n",
    "from sklearn.linear_model import LassoCV\n",
    "lassocv = LassoCV(alphas=np.array([.08, .09, .1, .11, .12]))\n",
    "print(lassocv.fit(X,y))\n",
    "print(lassocv.alpha_)"
   ]
  },
  {
   "cell_type": "code",
   "execution_count": null,
   "metadata": {
    "collapsed": true
   },
   "outputs": [],
   "source": []
  }
 ],
 "metadata": {
  "kernelspec": {
   "display_name": "Python 3",
   "language": "python",
   "name": "python3"
  },
  "language_info": {
   "codemirror_mode": {
    "name": "ipython",
    "version": 3
   },
   "file_extension": ".py",
   "mimetype": "text/x-python",
   "name": "python",
   "nbconvert_exporter": "python",
   "pygments_lexer": "ipython3",
   "version": "3.5.1"
  }
 },
 "nbformat": 4,
 "nbformat_minor": 0
}
