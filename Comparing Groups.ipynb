{
 "cells": [
  {
   "cell_type": "markdown",
   "metadata": {},
   "source": [
    "# Tukey HSD"
   ]
  },
  {
   "cell_type": "code",
   "execution_count": 16,
   "metadata": {
    "collapsed": false,
    "scrolled": true
   },
   "outputs": [
    {
     "data": {
      "text/plain": [
       "rec.array([(1, 'mental', 2), (2, 'mental', 2), (3, 'mental', 3), (4, 'mental', 4),\n",
       " (5, 'mental', 4), (6, 'mental', 5), (7, 'mental', 3), (8, 'mental', 4),\n",
       " (9, 'mental', 4), (10, 'mental', 4), (11, 'physical', 4),\n",
       " (12, 'physical', 4), (13, 'physical', 3), (14, 'physical', 5),\n",
       " (15, 'physical', 4), (16, 'physical', 1), (17, 'physical', 1),\n",
       " (18, 'physical', 2), (19, 'physical', 3), (20, 'physical', 3),\n",
       " (21, 'medical', 1), (22, 'medical', 2), (23, 'medical', 2),\n",
       " (24, 'medical', 2), (25, 'medical', 3), (26, 'medical', 2),\n",
       " (27, 'medical', 3), (28, 'medical', 1), (29, 'medical', 3),\n",
       " (30, 'medical', 1)], \n",
       "          dtype=[('idx', '<i4'), ('Treatment', 'O'), ('StressReduction', '<i4')])"
      ]
     },
     "execution_count": 16,
     "metadata": {},
     "output_type": "execute_result"
    }
   ],
   "source": [
    "import numpy as np\n",
    "from scipy import stats\n",
    "\n",
    "from statsmodels.stats.multicomp import (pairwise_tukeyhsd,\n",
    "                                         MultiComparison)\n",
    "from statsmodels.sandbox.stats.multicomp import TukeyHSDResults\n",
    "\n",
    "dta2 = np.rec.array([\n",
    "(  1,   'mental',  2 ),\n",
    "(  2,   'mental',  2 ),\n",
    "(  3,   'mental',  3 ),\n",
    "(  4,   'mental',  4 ),\n",
    "(  5,   'mental',  4 ),\n",
    "(  6,   'mental',  5 ),\n",
    "(  7,   'mental',  3 ),\n",
    "(  8,   'mental',  4 ),\n",
    "(  9,   'mental',  4 ),\n",
    "( 10,   'mental',  4 ),\n",
    "( 11, 'physical',  4 ),\n",
    "( 12, 'physical',  4 ),\n",
    "( 13, 'physical',  3 ),\n",
    "( 14, 'physical',  5 ),\n",
    "( 15, 'physical',  4 ),\n",
    "( 16, 'physical',  1 ),\n",
    "( 17, 'physical',  1 ),\n",
    "( 18, 'physical',  2 ),\n",
    "( 19, 'physical',  3 ),\n",
    "( 20, 'physical',  3 ),\n",
    "( 21,  'medical',  1 ),\n",
    "( 22,  'medical',  2 ),\n",
    "( 23,  'medical',  2 ),\n",
    "( 24,  'medical',  2 ),\n",
    "( 25,  'medical',  3 ),\n",
    "( 26,  'medical',  2 ),\n",
    "( 27,  'medical',  3 ),\n",
    "( 28,  'medical',  1 ),\n",
    "( 29,  'medical',  3 ),\n",
    "( 30,  'medical',  1 )], dtype=[('idx', '<i4'),\n",
    "                                ('Treatment', 'object'),\n",
    "                                ('StressReduction', '<i4')])\n",
    "dta2"
   ]
  },
  {
   "cell_type": "code",
   "execution_count": 17,
   "metadata": {
    "collapsed": false,
    "scrolled": false
   },
   "outputs": [
    {
     "name": "stdout",
     "output_type": "stream",
     "text": [
      "Multiple Comparison of Means - Tukey HSD,FWER=0.05\n",
      "===============================================\n",
      " group1  group2  meandiff  lower  upper  reject\n",
      "-----------------------------------------------\n",
      "medical  mental    1.5     0.3217 2.6783  True \n",
      "medical physical   1.0    -0.1783 2.1783 False \n",
      " mental physical   -0.5   -1.6783 0.6783 False \n",
      "-----------------------------------------------\n"
     ]
    }
   ],
   "source": [
    "res2 = pairwise_tukeyhsd(dta2['StressReduction'], dta2['Treatment'])\n",
    "print (res2)"
   ]
  },
  {
   "cell_type": "code",
   "execution_count": 29,
   "metadata": {
    "collapsed": false,
    "scrolled": true
   },
   "outputs": [
    {
     "name": "stdout",
     "output_type": "stream",
     "text": [
      "Multiple Comparison of Means - Tukey HSD,FWER=0.05\n",
      "===============================================\n",
      " group1  group2  meandiff  lower  upper  reject\n",
      "-----------------------------------------------\n",
      "medical  mental    1.5     0.3217 2.6783  True \n",
      "medical physical   1.0    -0.1783 2.1783 False \n",
      " mental physical   -0.5   -1.6783 0.6783 False \n",
      "-----------------------------------------------\n"
     ]
    }
   ],
   "source": [
    "mod = MultiComparison(dta2['StressReduction'], dta2['Treatment'])\n",
    "print (mod.tukeyhsd()) # same way to do above"
   ]
  },
  {
   "cell_type": "markdown",
   "metadata": {},
   "source": [
    "# T-test"
   ]
  },
  {
   "cell_type": "code",
   "execution_count": 30,
   "metadata": {
    "collapsed": false,
    "scrolled": true
   },
   "outputs": [
    {
     "name": "stdout",
     "output_type": "stream",
     "text": [
      "Test Multiple Comparison ttest_rel \n",
      "FWER=0.05 method=Holm\n",
      "alphacSidak=0.02, alphacBonf=0.017\n",
      "================================================\n",
      " group1  group2    stat   pval  pval_corr reject\n",
      "------------------------------------------------\n",
      "medical  mental  -4.0249 0.003    0.009    True \n",
      "medical physical -1.9365 0.0848   0.1696  False \n",
      " mental physical  0.8321 0.4269   0.4269  False \n",
      "------------------------------------------------\n"
     ]
    }
   ],
   "source": [
    "#t test\n",
    "from scipy import stats\n",
    "rtp = mod.allpairtest(stats.ttest_rel, method='Holm')\n",
    "print (rtp[0])"
   ]
  },
  {
   "cell_type": "markdown",
   "metadata": {},
   "source": [
    "# Chi Square"
   ]
  },
  {
   "cell_type": "code",
   "execution_count": 31,
   "metadata": {
    "collapsed": false
   },
   "outputs": [
    {
     "data": {
      "text/plain": [
       "Power_divergenceResult(statistic=array([ 2.        ,  6.66666667]), pvalue=array([ 0.84914504,  0.24663415]))"
      ]
     },
     "execution_count": 31,
     "metadata": {},
     "output_type": "execute_result"
    }
   ],
   "source": [
    "from scipy.stats import chisquare\n",
    "obs = np.array([[16, 18, 16, 14, 12, 12], [32, 24, 16, 28, 20, 24]]).T\n",
    "chisquare(obs)"
   ]
  },
  {
   "cell_type": "code",
   "execution_count": 32,
   "metadata": {
    "collapsed": false
   },
   "outputs": [
    {
     "data": {
      "text/plain": [
       "Power_divergenceResult(statistic=array([ 3.5 ,  9.25]), pvalue=array([ 0.62338763,  0.09949846]))"
      ]
     },
     "execution_count": 32,
     "metadata": {},
     "output_type": "execute_result"
    }
   ],
   "source": [
    "chisquare([16, 18, 16, 14, 12, 12],f_exp=[[16, 16, 16, 16, 16, 8], [8, 20, 20, 16, 12, 12]],axis=1)"
   ]
  },
  {
   "cell_type": "code",
   "execution_count": 34,
   "metadata": {
    "collapsed": false
   },
   "outputs": [
    {
     "data": {
      "text/plain": [
       "Power_divergenceResult(statistic=18.943480861244019, pvalue=0.00080629555484801861)"
      ]
     },
     "execution_count": 34,
     "metadata": {},
     "output_type": "execute_result"
    }
   ],
   "source": [
    "from scipy.stats import chisquare\n",
    "\n",
    "observed_values=scipy.array([18,21,16,7,15])\n",
    "expected_values=scipy.array([22,19,44,8,16])\n",
    "\n",
    "chisquare(observed_values, f_exp=expected_values)"
   ]
  },
  {
   "cell_type": "code",
   "execution_count": null,
   "metadata": {
    "collapsed": true
   },
   "outputs": [],
   "source": []
  }
 ],
 "metadata": {
  "kernelspec": {
   "display_name": "Python 3",
   "language": "python",
   "name": "python3"
  },
  "language_info": {
   "codemirror_mode": {
    "name": "ipython",
    "version": 3
   },
   "file_extension": ".py",
   "mimetype": "text/x-python",
   "name": "python",
   "nbconvert_exporter": "python",
   "pygments_lexer": "ipython3",
   "version": "3.5.1"
  }
 },
 "nbformat": 4,
 "nbformat_minor": 0
}
