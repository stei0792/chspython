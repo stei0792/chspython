{
 "cells": [
  {
   "cell_type": "markdown",
   "metadata": {},
   "source": [
    "# Using Pyspark to Make rdf model and comparing to MLR model"
   ]
  },
  {
   "cell_type": "code",
   "execution_count": 1,
   "metadata": {
    "collapsed": true
   },
   "outputs": [],
   "source": [
    "from pyspark.mllib.tree import RandomForest, RandomForestModel\n",
    "from pyspark.mllib.regression import LabeledPoint"
   ]
  },
  {
   "cell_type": "code",
   "execution_count": 2,
   "metadata": {
    "collapsed": false
   },
   "outputs": [
    {
     "data": {
      "text/plain": [
       "<pyspark.context.SparkContext at 0x7fc021ed6ad0>"
      ]
     },
     "execution_count": 2,
     "metadata": {},
     "output_type": "execute_result"
    }
   ],
   "source": [
    "sc"
   ]
  },
  {
   "cell_type": "markdown",
   "metadata": {},
   "source": [
    "## Use 1996-2005 data to predict current values"
   ]
  },
  {
   "cell_type": "code",
   "execution_count": 43,
   "metadata": {
    "collapsed": false
   },
   "outputs": [
    {
     "data": {
      "text/plain": [
       "3653"
      ]
     },
     "execution_count": 43,
     "metadata": {},
     "output_type": "execute_result"
    }
   ],
   "source": [
    "#this allows me to directly connect to hadoop\n",
    "path = 'hdfs:///user/msteinme99/project2nolabel.csv'\n",
    "predictive_old_urea = sc.textFile(path)\n",
    "predictive_old_urea.count()"
   ]
  },
  {
   "cell_type": "code",
   "execution_count": 44,
   "metadata": {
    "collapsed": false
   },
   "outputs": [
    {
     "data": {
      "text/plain": [
       "u'3/1/12,78.789,109.27,654,406,5.18,76.2,1/1/96,84.76,19.06,371.5,235,2/1/14,96.71,450'"
      ]
     },
     "execution_count": 44,
     "metadata": {},
     "output_type": "execute_result"
    }
   ],
   "source": [
    "columnNames_old = ('latedate', 'Spotdollar', '2monthcrude', '2monthcorn','precipitation', 'temp', '2monthurea','earlydate','dollar', 'crude','corn','urea', 'lastdate', 'crude.1', 'urea.1')\n",
    "#this shows the first column which is to see if file connection worked\n",
    "predictive_old_urea.first()"
   ]
  },
  {
   "cell_type": "code",
   "execution_count": 45,
   "metadata": {
    "collapsed": false
   },
   "outputs": [
    {
     "data": {
      "text/plain": [
       "(84.76, 19.06, 371.5, 235.0)"
      ]
     },
     "execution_count": 45,
     "metadata": {},
     "output_type": "execute_result"
    }
   ],
   "source": [
    "#interested in dollar, crude, corn and urea columns\n",
    "predictiveUreaSelected_old = predictive_old_urea.map(lambda row:row.split(',')).map(lambda row: (float(row[8]), float(row[9]), float(row[10]), float(row[11])))\n",
    "predictiveUreaSelected_old.first()"
   ]
  },
  {
   "cell_type": "code",
   "execution_count": 46,
   "metadata": {
    "collapsed": false
   },
   "outputs": [
    {
     "data": {
      "text/plain": [
       "LabeledPoint(235.0, [84.76,19.06,371.5])"
      ]
     },
     "execution_count": 46,
     "metadata": {},
     "output_type": "execute_result"
    }
   ],
   "source": [
    "#taking urea as the y, and grouping dollar,crude,corn as the x variables\n",
    "predictiveUreaLabeled_old = predictiveUreaSelected_old.map(lambda row:LabeledPoint(row[3],[row[0],row[1],row[2]]))\n",
    "predictiveUreaLabeled_old.first()"
   ]
  },
  {
   "cell_type": "code",
   "execution_count": 47,
   "metadata": {
    "collapsed": false
   },
   "outputs": [
    {
     "data": {
      "text/plain": [
       "2575"
      ]
     },
     "execution_count": 47,
     "metadata": {},
     "output_type": "execute_result"
    }
   ],
   "source": [
    "#spliting data into training and test datasets, training should be from .6-.8\n",
    "(trainingData, testData) = predictiveUreaLabeled_old.randomSplit([0.7,0.3])\n",
    "trainingData.count()"
   ]
  },
  {
   "cell_type": "code",
   "execution_count": 24,
   "metadata": {
    "collapsed": false
   },
   "outputs": [
    {
     "data": {
      "text/plain": [
       "1115"
      ]
     },
     "execution_count": 24,
     "metadata": {},
     "output_type": "execute_result"
    }
   ],
   "source": [
    "testData.count()"
   ]
  },
  {
   "cell_type": "code",
   "execution_count": 25,
   "metadata": {
    "collapsed": true
   },
   "outputs": [],
   "source": [
    "# Train a RandomForest model.\n",
    "#  Empty categoricalFeaturesInfo indicates all features are continuous.\n",
    "#  Note: Use larger numTrees in practice.\n",
    "#  Setting featureSubsetStrategy=\"auto\" lets the algorithm choose.\n",
    "model_old = RandomForest.trainRegressor(trainingData, categoricalFeaturesInfo={},\n",
    "                                    numTrees=200, featureSubsetStrategy=\"auto\",\n",
    "                                    impurity='variance', maxDepth=10, maxBins=32)"
   ]
  },
  {
   "cell_type": "code",
   "execution_count": 26,
   "metadata": {
    "collapsed": false
   },
   "outputs": [
    {
     "name": "stdout",
     "output_type": "stream",
     "text": [
      "Test Mean Squared Error = 129.187265902\n",
      "Learned regression forest model:\n"
     ]
    }
   ],
   "source": [
    "predictions = model_old.predict(testData.map(lambda x: x.features))\n",
    "labelsAndPredictions = testData.map(lambda lp: lp.label).zip(predictions)\n",
    "testMSE = labelsAndPredictions.map(lambda (v, p): (v - p) * (v - p)).sum() / float(testData.count())\n",
    "print('Test Mean Squared Error = ' + str(testMSE))\n",
    "print('Learned regression forest model:')"
   ]
  },
  {
   "cell_type": "code",
   "execution_count": 28,
   "metadata": {
    "collapsed": false
   },
   "outputs": [],
   "source": [
    "# Save and load model \n",
    "model_old.save(sc, \"hdfs:///user/msteinme99/olderurea4\")"
   ]
  },
  {
   "cell_type": "code",
   "execution_count": 71,
   "metadata": {
    "collapsed": true
   },
   "outputs": [],
   "source": [
    "rdfModel_old = RandomForestModel.load(sc,\"hdfs:///user/msteinme99/olderurea4\")"
   ]
  },
  {
   "cell_type": "code",
   "execution_count": 72,
   "metadata": {
    "collapsed": false
   },
   "outputs": [
    {
     "data": {
      "text/plain": [
       "[u'98.148,34.58,359.5',\n",
       " u'98.211,35.58,357',\n",
       " u'98.352,36.15,355.75',\n",
       " u'98.214,36.3,356.25',\n",
       " u'97.592,36.33,356.5',\n",
       " u'97.34,37.75,358.25',\n",
       " u'97.071,39.82,359',\n",
       " u'97.255,38.77,359.5']"
      ]
     },
     "execution_count": 72,
     "metadata": {},
     "output_type": "execute_result"
    }
   ],
   "source": [
    "tobePredictedUrea = sc.textFile(\"hdfs:///user/msteinme99/predict2.csv\")\n",
    "tobePredictedUrea.take(8)"
   ]
  },
  {
   "cell_type": "code",
   "execution_count": 73,
   "metadata": {
    "collapsed": false
   },
   "outputs": [
    {
     "data": {
      "text/plain": [
       "[191.0267745457433,\n",
       " 192.31666562946262,\n",
       " 192.31666562946262,\n",
       " 192.31666562946262,\n",
       " 192.31666562946262,\n",
       " 192.31666562946262,\n",
       " 210.57599208991348,\n",
       " 192.31666562946262]"
      ]
     },
     "execution_count": 73,
     "metadata": {},
     "output_type": "execute_result"
    }
   ],
   "source": [
    "predictions_old = rdfModel_old.predict(tobePredictedUrea.map(lambda x: x.split(',')))\n",
    "predictions_old.take(8)"
   ]
  },
  {
   "cell_type": "code",
   "execution_count": 80,
   "metadata": {
    "collapsed": false
   },
   "outputs": [],
   "source": [
    "#mlr_96_05 = 137.0734 - (1.1225 * dollar) + (3.4372 * crude) + (0.2556 * corn)\n",
    "#mlr_china = 889.9160 - (5.8976 * dollar) + (2.9201 * crude) - (0.5137 * corn)\n",
    "#mlr_section1 = 501.8951 - (3.5447 * dollar) + (0.2747 * corn)\n",
    "#mlr_green = 246.2886 + (2.0300 * crude)\n",
    "#mlr_section1_temp = -264.2950 - (3.9598 * dollar) + (0.1286 * corn) + (12.1178 * temp)\n",
    "actual1 = 232\n",
    "actual2 = 230\n",
    "actual3 = 213\n",
    "actual4 = 210\n",
    "actual5 = 213\n",
    "actual6 = 213\n",
    "actual7 = 213\n",
    "actual8 = 213"
   ]
  },
  {
   "cell_type": "code",
   "execution_count": 52,
   "metadata": {
    "collapsed": false
   },
   "outputs": [],
   "source": [
    "pred1_96 = 137.0734 - (1.1225 * 98.148) + (3.4372 * 34.58) + (0.2556 * 359.5)\n",
    "pred2_96 = 137.0734 - (1.1225 * 98.211) + (3.4372 * 35.58) + (0.2556 * 357)\n",
    "pred3_96 = 137.0734 - (1.1225 * 98.352) + (3.4372 * 36.15) + (0.2556 * 355.75)\n",
    "pred4_96 = 137.0734 - (1.1225 * 98.214) + (3.4372 * 36.3) + (0.2556 * 356.25)\n",
    "pred5_96 = 137.0734 - (1.1225 * 97.592) + (3.4372 * 36.33) + (0.2556 * 356.5)\n",
    "pred6_96 = 137.0734 - (1.1225 * 97.34) + (3.4372 * 37.75) + (0.2556 * 358.25)\n",
    "pred7_96 = 137.0734 - (1.1225 * 97.071) + (3.4372 * 39.82) + (0.2556 * 359)\n",
    "pred8_96 = 137.0734 - (1.1225 * 97.255) + (3.4372 * 38.77) + (0.2556 * 359.5)"
   ]
  },
  {
   "cell_type": "code",
   "execution_count": 53,
   "metadata": {
    "collapsed": false
   },
   "outputs": [
    {
     "name": "stdout",
     "output_type": "stream",
     "text": [
      "237.648846\n",
      "240.3763285\n",
      "241.85776\n",
      "242.656045\n",
      "243.521256\n",
      "249.13225\n",
      "256.7409065\n",
      "253.0531065\n"
     ]
    }
   ],
   "source": [
    "print pred1_96 \n",
    "print pred2_96 \n",
    "print pred3_96 \n",
    "print pred4_96 \n",
    "print pred5_96 \n",
    "print pred6_96\n",
    "print pred7_96\n",
    "print pred8_96"
   ]
  },
  {
   "cell_type": "code",
   "execution_count": 74,
   "metadata": {
    "collapsed": false
   },
   "outputs": [
    {
     "name": "stdout",
     "output_type": "stream",
     "text": [
      "17.6608730406\n",
      "16.384058422\n",
      "9.71048561997\n",
      "8.42063541454\n",
      "9.71048561997\n",
      "9.71048561997\n",
      "1.13803188267\n",
      "9.71048561997\n"
     ]
    }
   ],
   "source": [
    "#error on each for rdf_old model\n",
    "error1 = abs(191.0267745457433 - actual1)/actual1 * 100\n",
    "error2 = abs(192.31666562946262 - actual2)/actual2 * 100\n",
    "error3 = abs(192.31666562946262 - actual3)/actual3 * 100\n",
    "error4 = abs(192.31666562946262 - actual4)/actual4 * 100\n",
    "error5 = abs(192.31666562946262 - actual5)/actual5 * 100\n",
    "error6 = abs(192.31666562946262 - actual6)/actual6 * 100\n",
    "error7 = abs(210.57599208991348 - actual7)/actual7 * 100\n",
    "error8 = abs(192.316665629462 - actual8)/actual8 * 100\n",
    "print error1\n",
    "print error2\n",
    "print error3\n",
    "print error4\n",
    "print error5\n",
    "print error6\n",
    "print error7\n",
    "print error8"
   ]
  },
  {
   "cell_type": "code",
   "execution_count": 55,
   "metadata": {
    "collapsed": false
   },
   "outputs": [
    {
     "name": "stdout",
     "output_type": "stream",
     "text": [
      "2.43484741379\n",
      "4.51144717391\n",
      "13.5482441315\n",
      "15.550497619\n",
      "14.329228169\n",
      "16.9634976526\n",
      "20.5356368545\n",
      "18.8042753521\n"
     ]
    }
   ],
   "source": [
    "#error on each for mlr_old model, the rdf model is better\n",
    "error1_mlr = abs(pred1_96 - actual1)/actual1 * 100\n",
    "error2_mlr = abs(pred2_96 - actual2)/actual2 * 100\n",
    "error3_mlr = abs(pred3_96 - actual3)/actual3 * 100\n",
    "error4_mlr = abs(pred4_96 - actual4)/actual4 * 100\n",
    "error5_mlr = abs(pred5_96 - actual5)/actual5 * 100\n",
    "error6_mlr = abs(pred6_96 - actual6)/actual6 * 100\n",
    "error7_mlr = abs(pred7_96 - actual7)/actual7 * 100\n",
    "error8_mlr = abs(pred8_96 - actual8)/actual8 * 100\n",
    "print error1_mlr\n",
    "print error2_mlr\n",
    "print error3_mlr\n",
    "print error4_mlr\n",
    "print error5_mlr\n",
    "print error6_mlr\n",
    "print error7_mlr\n",
    "print error8_mlr"
   ]
  },
  {
   "cell_type": "markdown",
   "metadata": {},
   "source": [
    "## Use dates 8/3/15-2/25/15 and will eventually compare to mlr"
   ]
  },
  {
   "cell_type": "code",
   "execution_count": 7,
   "metadata": {
    "collapsed": false
   },
   "outputs": [
    {
     "data": {
      "text/plain": [
       "141"
      ]
     },
     "execution_count": 7,
     "metadata": {},
     "output_type": "execute_result"
    }
   ],
   "source": [
    "path = 'hdfs:///user/msteinme99/ureachina.csv'      #file that has below columns and from 8/3/15 to 2/25/2016\n",
    "predictchinaurea = sc.textFile(path)\n",
    "predictchinaurea.count()"
   ]
  },
  {
   "cell_type": "code",
   "execution_count": 8,
   "metadata": {
    "collapsed": true
   },
   "outputs": [],
   "source": [
    "columnNames = ('latedate', 'Spotdollar', '2monthcrude', '2monthcorn','2monthurea', 'precipitation', 'temp')"
   ]
  },
  {
   "cell_type": "code",
   "execution_count": 9,
   "metadata": {
    "collapsed": false
   },
   "outputs": [
    {
     "data": {
      "text/plain": [
       "u'8/3/15,97.494,45.56,376.5,278,9.26,71.87'"
      ]
     },
     "execution_count": 9,
     "metadata": {},
     "output_type": "execute_result"
    }
   ],
   "source": [
    "predictchinaurea.first()"
   ]
  },
  {
   "cell_type": "code",
   "execution_count": 10,
   "metadata": {
    "collapsed": false
   },
   "outputs": [
    {
     "data": {
      "text/plain": [
       "(97.494, 45.56, 376.5, 278.0)"
      ]
     },
     "execution_count": 10,
     "metadata": {},
     "output_type": "execute_result"
    }
   ],
   "source": [
    "#I didn't want to look at temp or precipitation yet so I did not use those columns\n",
    "predictiveUreaSelected = predictchinaurea.map(lambda row:row.split(',')).map(lambda row: (float(row[1]), float(row[2]), float(row[3]), float(row[4])))\n",
    "predictiveUreaSelected.first()"
   ]
  },
  {
   "cell_type": "code",
   "execution_count": 11,
   "metadata": {
    "collapsed": false
   },
   "outputs": [
    {
     "data": {
      "text/plain": [
       "LabeledPoint(278.0, [97.494,45.56,376.5])"
      ]
     },
     "execution_count": 11,
     "metadata": {},
     "output_type": "execute_result"
    }
   ],
   "source": [
    "#taking 2monthurea as the y, and grouping spotdollar,crude,corn as the x variables\n",
    "predictiveUreaLabeled = predictiveUreaSelected.map(lambda row:LabeledPoint(row[3],[row[0],row[1],row[2]]))\n",
    "predictiveUreaLabeled.first()"
   ]
  },
  {
   "cell_type": "code",
   "execution_count": 62,
   "metadata": {
    "collapsed": false
   },
   "outputs": [
    {
     "data": {
      "text/plain": [
       "101"
      ]
     },
     "execution_count": 62,
     "metadata": {},
     "output_type": "execute_result"
    }
   ],
   "source": [
    "#spliting data into training and test datasets, training should be from .6-.8\n",
    "(trainingData, testData) = predictiveUreaLabeled.randomSplit([0.7,0.3])\n",
    "trainingData.count()"
   ]
  },
  {
   "cell_type": "code",
   "execution_count": 63,
   "metadata": {
    "collapsed": false
   },
   "outputs": [
    {
     "data": {
      "text/plain": [
       "40"
      ]
     },
     "execution_count": 63,
     "metadata": {},
     "output_type": "execute_result"
    }
   ],
   "source": [
    "testData.count()"
   ]
  },
  {
   "cell_type": "code",
   "execution_count": 64,
   "metadata": {
    "collapsed": true
   },
   "outputs": [],
   "source": [
    "#using random forest in pyspark\n",
    "model = RandomForest.trainRegressor(trainingData, categoricalFeaturesInfo={},\n",
    "                                    numTrees=200, featureSubsetStrategy=\"auto\",\n",
    "                                    impurity='variance', maxDepth=10, maxBins=32)"
   ]
  },
  {
   "cell_type": "code",
   "execution_count": 65,
   "metadata": {
    "collapsed": false
   },
   "outputs": [
    {
     "name": "stdout",
     "output_type": "stream",
     "text": [
      "Test Mean Squared Error = 75.5443238411\n",
      "Learned regression forest model:\n"
     ]
    }
   ],
   "source": [
    "#this prints the MSE for the rdf model, want the mse to be small, made trees varying sizes and looked at changing MSE, do multiple times\n",
    "predictions = model.predict(testData.map(lambda x: x.features))\n",
    "labelsAndPredictions = testData.map(lambda lp: lp.label).zip(predictions)\n",
    "testMSE = labelsAndPredictions.map(lambda (v, p): (v - p) * (v - p)).sum() / float(testData.count())\n",
    "print('Test Mean Squared Error = ' + str(testMSE))\n",
    "print('Learned regression forest model:')"
   ]
  },
  {
   "cell_type": "code",
   "execution_count": 66,
   "metadata": {
    "collapsed": false
   },
   "outputs": [],
   "source": [
    "# Save and load model //user/msteinme99/project2nolabel.csv\n",
    "model.save(sc, \"hdfs:///user/msteinme99/chinaureamodel4\")"
   ]
  },
  {
   "cell_type": "code",
   "execution_count": 69,
   "metadata": {
    "collapsed": true
   },
   "outputs": [],
   "source": [
    "#now need to load the file\n",
    "rdfModel_China = RandomForestModel.load(sc,\"hdfs:///user/msteinme99/chinaureamodel4\")"
   ]
  },
  {
   "cell_type": "code",
   "execution_count": 76,
   "metadata": {
    "collapsed": false
   },
   "outputs": [
    {
     "data": {
      "text/plain": [
       "[u'98.148,34.58,359.5',\n",
       " u'98.211,35.58,357',\n",
       " u'98.352,36.15,355.75',\n",
       " u'98.214,36.3,356.25',\n",
       " u'97.592,36.33,356.5',\n",
       " u'97.34,37.75,358.25',\n",
       " u'97.071,39.82,359',\n",
       " u'97.255,38.77,359.5']"
      ]
     },
     "execution_count": 76,
     "metadata": {},
     "output_type": "execute_result"
    }
   ],
   "source": [
    "tobePredictedUrea = sc.textFile(\"hdfs:///user/msteinme99/predict2.csv\")\n",
    "tobePredictedUrea.take(8)"
   ]
  },
  {
   "cell_type": "code",
   "execution_count": 70,
   "metadata": {
    "collapsed": true
   },
   "outputs": [],
   "source": [
    "rdfModel_China.predict?"
   ]
  },
  {
   "cell_type": "code",
   "execution_count": 77,
   "metadata": {
    "collapsed": false
   },
   "outputs": [
    {
     "data": {
      "text/plain": [
       "[216.47165476190474,\n",
       " 218.77269047619043,\n",
       " 221.5400892857143,\n",
       " 221.4918988095238,\n",
       " 226.47638690476194,\n",
       " 228.0846369047619,\n",
       " 251.23016666666663,\n",
       " 240.22458333333338]"
      ]
     },
     "execution_count": 77,
     "metadata": {},
     "output_type": "execute_result"
    }
   ],
   "source": [
    "predictions_China = rdfModel_China.predict(tobePredictedUrea.map(lambda x: x.split(',')))\n",
    "predictions_China.take(8)"
   ]
  },
  {
   "cell_type": "code",
   "execution_count": 81,
   "metadata": {
    "collapsed": false
   },
   "outputs": [
    {
     "name": "stdout",
     "output_type": "stream",
     "text": [
      "227.3802632\n",
      "231.2130644\n",
      "232.6880848\n",
      "233.6831186\n",
      "237.3106038\n",
      "242.044366\n",
      "249.2901524\n",
      "244.882039\n"
     ]
    }
   ],
   "source": [
    "pred1_China = 889.9160 - (5.8976 * 98.148) + (2.9201 * 34.58) - (0.5137 * 359.5)\n",
    "pred2_China = 889.9160 - (5.8976 * 98.211) + (2.9201 * 35.58) - (0.5137 * 357)\n",
    "pred3_China = 889.9160 - (5.8976 * 98.352) + (2.9201 * 36.15) - (0.5137 * 355.75)\n",
    "pred4_China = 889.9160 - (5.8976 * 98.214) + (2.9201 * 36.3) - (0.5137 * 356.25)\n",
    "pred5_China = 889.9160 - (5.8976 * 97.592) + (2.9201 * 36.33) - (0.5137 * 356.5)\n",
    "pred6_China = 889.9160 - (5.8976 * 97.34) + (2.9201 * 37.75) - (0.5137 * 358.25)\n",
    "pred7_China = 889.9160 - (5.8976 * 97.071) + (2.9201 * 39.82) - (0.5137 * 359)\n",
    "pred8_China = 889.9160 - (5.8976 * 97.255) + (2.9201 * 38.77) - (0.5137 * 359.5)\n",
    "print pred1_China\n",
    "print pred2_China\n",
    "print pred3_China\n",
    "print pred4_China\n",
    "print pred5_China\n",
    "print pred6_China\n",
    "print pred7_China\n",
    "print pred8_China"
   ]
  },
  {
   "cell_type": "code",
   "execution_count": 82,
   "metadata": {
    "collapsed": false
   },
   "outputs": [
    {
     "name": "stdout",
     "output_type": "stream",
     "text": [
      "6.6932522578\n",
      "4.8814389234\n",
      "4.00943158954\n",
      "5.47233276644\n",
      "6.32694220881\n",
      "7.08198915717\n",
      "17.9484350548\n",
      "12.7814945227\n"
     ]
    }
   ],
   "source": [
    "#error on each for rdf_old model china\n",
    "error1_c = abs(216.47165476190474- actual1)/actual1 * 100\n",
    "error2_c = abs(218.77269047619043- actual2)/actual2 * 100\n",
    "error3_c = abs(221.5400892857143 - actual3)/actual3 * 100\n",
    "error4_c = abs(221.4918988095238 - actual4)/actual4 * 100\n",
    "error5_c = abs(226.47638690476194 - actual5)/actual5 * 100\n",
    "error6_c = abs(228.0846369047619 - actual6)/actual6 * 100\n",
    "error7_c = abs(251.23016666666663- actual7)/actual7 * 100\n",
    "error8_c = abs(240.224583333333 - actual8)/actual8 * 100\n",
    "print error1_c\n",
    "print error2_c\n",
    "print error3_c\n",
    "print error4_c\n",
    "print error5_c\n",
    "print error6_c\n",
    "print error7_c\n",
    "print error8_c"
   ]
  },
  {
   "cell_type": "code",
   "execution_count": 83,
   "metadata": {
    "collapsed": false
   },
   "outputs": [
    {
     "name": "stdout",
     "output_type": "stream",
     "text": [
      "1.99126586207\n",
      "0.527419304348\n",
      "9.24323230047\n",
      "11.2776755238\n",
      "11.4134290141\n",
      "13.6358525822\n",
      "17.0376302347\n",
      "14.9680934272\n"
     ]
    }
   ],
   "source": [
    "#error on each for mlr_old model china\n",
    "error1_mlrc = abs(pred1_China - actual1)/actual1 * 100\n",
    "error2_mlrc = abs(pred2_China - actual2)/actual2 * 100\n",
    "error3_mlrc = abs(pred3_China - actual3)/actual3 * 100\n",
    "error4_mlrc = abs(pred4_China - actual4)/actual4 * 100\n",
    "error5_mlrc = abs(pred5_China - actual5)/actual5 * 100\n",
    "error6_mlrc = abs(pred6_China - actual6)/actual6 * 100\n",
    "error7_mlrc = abs(pred7_China - actual7)/actual7 * 100\n",
    "error8_mlrc = abs(pred8_China - actual8)/actual8 * 100\n",
    "print error1_mlrc\n",
    "print error2_mlrc\n",
    "print error3_mlrc\n",
    "print error4_mlrc\n",
    "print error5_mlrc\n",
    "print error6_mlrc\n",
    "print error7_mlrc\n",
    "print error8_mlrc"
   ]
  },
  {
   "cell_type": "markdown",
   "metadata": {
    "collapsed": true
   },
   "source": [
    "# Section 1 used to predict now & compare to mlr"
   ]
  },
  {
   "cell_type": "code",
   "execution_count": 130,
   "metadata": {
    "collapsed": false
   },
   "outputs": [
    {
     "data": {
      "text/plain": [
       "985"
      ]
     },
     "execution_count": 130,
     "metadata": {},
     "output_type": "execute_result"
    }
   ],
   "source": [
    "#this allows me to directly connect to hadoop\n",
    "path = 'hdfs:///user/msteinme99/sec1nolabel.csv'\n",
    "predictive = sc.textFile(path)\n",
    "predictive.count()"
   ]
  },
  {
   "cell_type": "code",
   "execution_count": 131,
   "metadata": {
    "collapsed": false
   },
   "outputs": [
    {
     "data": {
      "text/plain": [
       "u'78.789,109.27,654,406'"
      ]
     },
     "execution_count": 131,
     "metadata": {},
     "output_type": "execute_result"
    }
   ],
   "source": [
    "columnNames_sec1 = ('Spotdollar', '2monthcrude', '2monthcorn','2monthurea')\n",
    "#this shows the first column which is to see if file connection worked\n",
    "predictive.first()"
   ]
  },
  {
   "cell_type": "code",
   "execution_count": 103,
   "metadata": {
    "collapsed": false
   },
   "outputs": [
    {
     "data": {
      "text/plain": [
       "(78.789, 109.27, 654.0, 406.0)"
      ]
     },
     "execution_count": 103,
     "metadata": {},
     "output_type": "execute_result"
    }
   ],
   "source": [
    "predictiveUreaSelected = predictive.map(lambda row:row.split(',')).map(lambda row: (float(row[0]), float(row[1]), float(row[2]), float(row[3])))\n",
    "predictiveUreaSelected.first()"
   ]
  },
  {
   "cell_type": "code",
   "execution_count": 104,
   "metadata": {
    "collapsed": false
   },
   "outputs": [
    {
     "data": {
      "text/plain": [
       "LabeledPoint(406.0, [78.789,109.27,654.0])"
      ]
     },
     "execution_count": 104,
     "metadata": {},
     "output_type": "execute_result"
    }
   ],
   "source": [
    "#taking 2monthurea as the y, and grouping dollar,crude,corn as the x variables\n",
    "predictiveUreaLabeled = predictiveUreaSelected.map(lambda row:LabeledPoint(row[3],[row[0],row[1],row[2]]))\n",
    "predictiveUreaLabeled.first()"
   ]
  },
  {
   "cell_type": "code",
   "execution_count": 109,
   "metadata": {
    "collapsed": false
   },
   "outputs": [
    {
     "data": {
      "text/plain": [
       "696"
      ]
     },
     "execution_count": 109,
     "metadata": {},
     "output_type": "execute_result"
    }
   ],
   "source": [
    "(trainingData, testData) = predictiveUreaLabeled.randomSplit([0.7,0.3])\n",
    "trainingData.count()"
   ]
  },
  {
   "cell_type": "code",
   "execution_count": 110,
   "metadata": {
    "collapsed": false
   },
   "outputs": [
    {
     "data": {
      "text/plain": [
       "289"
      ]
     },
     "execution_count": 110,
     "metadata": {},
     "output_type": "execute_result"
    }
   ],
   "source": [
    "testData.count()"
   ]
  },
  {
   "cell_type": "code",
   "execution_count": 119,
   "metadata": {
    "collapsed": true
   },
   "outputs": [],
   "source": [
    "model = RandomForest.trainRegressor(trainingData, categoricalFeaturesInfo={},\n",
    "                                    numTrees=150, featureSubsetStrategy=\"auto\",\n",
    "                                    impurity='variance', maxDepth=10, maxBins=32)"
   ]
  },
  {
   "cell_type": "code",
   "execution_count": 120,
   "metadata": {
    "collapsed": false
   },
   "outputs": [
    {
     "name": "stdout",
     "output_type": "stream",
     "text": [
      "Test Mean Squared Error = 353.726941806\n"
     ]
    }
   ],
   "source": [
    "predictions = model.predict(testData.map(lambda x: x.features))\n",
    "labelsAndPredictions = testData.map(lambda lp: lp.label).zip(predictions)\n",
    "testMSE = labelsAndPredictions.map(lambda (v, p): (v - p) * (v - p)).sum() / float(testData.count())\n",
    "print('Test Mean Squared Error = ' + str(testMSE))\n"
   ]
  },
  {
   "cell_type": "code",
   "execution_count": 121,
   "metadata": {
    "collapsed": true
   },
   "outputs": [],
   "source": [
    "model.save(sc, \"hdfs:///user/msteinme99/sec1model1\")"
   ]
  },
  {
   "cell_type": "code",
   "execution_count": 122,
   "metadata": {
    "collapsed": true
   },
   "outputs": [],
   "source": [
    "rdfModel_sec1 = RandomForestModel.load(sc,\"hdfs:///user/msteinme99/sec1model1\")"
   ]
  },
  {
   "cell_type": "code",
   "execution_count": 123,
   "metadata": {
    "collapsed": false
   },
   "outputs": [
    {
     "data": {
      "text/plain": [
       "[u'98.148,34.58,359.5',\n",
       " u'98.211,35.58,357',\n",
       " u'98.352,36.15,355.75',\n",
       " u'98.214,36.3,356.25',\n",
       " u'97.592,36.33,356.5',\n",
       " u'97.34,37.75,358.25',\n",
       " u'97.071,39.82,359',\n",
       " u'97.255,38.77,359.5']"
      ]
     },
     "execution_count": 123,
     "metadata": {},
     "output_type": "execute_result"
    }
   ],
   "source": [
    "tobePredictedUrea = sc.textFile(\"hdfs:///user/msteinme99/predict2.csv\")\n",
    "tobePredictedUrea.take(8)"
   ]
  },
  {
   "cell_type": "code",
   "execution_count": 124,
   "metadata": {
    "collapsed": true
   },
   "outputs": [],
   "source": [
    "rdfModel_sec1.predict?"
   ]
  },
  {
   "cell_type": "code",
   "execution_count": 125,
   "metadata": {
    "collapsed": false
   },
   "outputs": [
    {
     "data": {
      "text/plain": [
       "[219.68933566277778,\n",
       " 222.5409864564286,\n",
       " 219.93278640245205,\n",
       " 222.5409864564286,\n",
       " 222.5409864564286,\n",
       " 235.2674346071312,\n",
       " 252.2662065974961,\n",
       " 252.2662065974961]"
      ]
     },
     "execution_count": 125,
     "metadata": {},
     "output_type": "execute_result"
    }
   ],
   "source": [
    "predictions_sec1 = rdfModel_sec1.predict(tobePredictedUrea.map(lambda x: x.split(',')))\n",
    "predictions_sec1.take(8)"
   ]
  },
  {
   "cell_type": "code",
   "execution_count": 79,
   "metadata": {
    "collapsed": false
   },
   "outputs": [
    {
     "name": "stdout",
     "output_type": "stream",
     "text": [
      "252.7445344\n",
      "251.8344683\n",
      "250.9912906\n",
      "251.6178092\n",
      "253.8912876\n",
      "255.265277\n",
      "256.4248263\n",
      "255.9099515\n"
     ]
    }
   ],
   "source": [
    "pred1 = 501.8951 - (3.5447 * 98.148) + (0.2747 * 359.5)\n",
    "pred2 = 501.8951 - (3.5447 * 98.211) + (0.2747 * 357)\n",
    "pred3 = 501.8951 - (3.5447 * 98.352) + (0.2747 * 355.75)\n",
    "pred4 = 501.8951 - (3.5447 * 98.214) + (0.2747 * 356.25)\n",
    "pred5 = 501.8951 - (3.5447 * 97.592) + (0.2747 * 356.5)\n",
    "pred6 = 501.8951 - (3.5447 * 97.34) + (0.2747 * 358.25)\n",
    "pred7 = 501.8951 - (3.5447 * 97.071) + (0.2747 * 359)\n",
    "pred8 = 501.8951 - (3.5447 * 97.255) + (0.2747 * 359.5)\n",
    "print pred1\n",
    "print pred2\n",
    "print pred3\n",
    "print pred4\n",
    "print pred5\n",
    "print pred6\n",
    "print pred7\n",
    "print pred8"
   ]
  },
  {
   "cell_type": "code",
   "execution_count": 126,
   "metadata": {
    "collapsed": false
   },
   "outputs": [
    {
     "name": "stdout",
     "output_type": "stream",
     "text": [
      "5.30632083501\n",
      "3.24304936677\n",
      "3.25482929693\n",
      "5.97189831259\n",
      "4.47933636452\n",
      "10.4541946512\n",
      "18.4348387782\n",
      "18.4348387782\n"
     ]
    }
   ],
   "source": [
    "#error on each for rdf sec1\n",
    "error1_s = abs(219.68933566277778- actual1)/actual1 * 100\n",
    "error2_s = abs(222.5409864564286- actual2)/actual2 * 100\n",
    "error3_s = abs(219.93278640245205 - actual3)/actual3 * 100\n",
    "error4_s = abs(222.5409864564286- actual4)/actual4 * 100\n",
    "error5_s = abs(222.5409864564286 - actual5)/actual5 * 100\n",
    "error6_s = abs(235.2674346071312 - actual6)/actual6 * 100\n",
    "error7_s = abs(252.2662065974961- actual7)/actual7 * 100\n",
    "error8_s = abs(252.2662065974961 - actual8)/actual8 * 100\n",
    "print error1_s\n",
    "print error2_s\n",
    "print error3_s\n",
    "print error4_s\n",
    "print error5_s\n",
    "print error6_s\n",
    "print error7_s\n",
    "print error8_s"
   ]
  },
  {
   "cell_type": "code",
   "execution_count": 82,
   "metadata": {
    "collapsed": false
   },
   "outputs": [
    {
     "name": "stdout",
     "output_type": "stream",
     "text": [
      "8.94160965517\n",
      "9.49324708696\n",
      "17.8362866667\n",
      "19.818004381\n",
      "19.1977876056\n",
      "19.8428530516\n",
      "20.3872423944\n",
      "20.1455171362\n"
     ]
    }
   ],
   "source": [
    "#error on each for mlr_sec1\n",
    "error1_mlrs = abs(pred1 - actual1)/actual1 * 100\n",
    "error2_mlrs = abs(pred2 - actual2)/actual2 * 100\n",
    "error3_mlrs = abs(pred3 - actual3)/actual3 * 100\n",
    "error4_mlrs = abs(pred4 - actual4)/actual4 * 100\n",
    "error5_mlrs = abs(pred5 - actual5)/actual5 * 100\n",
    "error6_mlrs = abs(pred6 - actual6)/actual6 * 100\n",
    "error7_mlrs = abs(pred7 - actual7)/actual7 * 100\n",
    "error8_mlrs = abs(pred8 - actual8)/actual8 * 100\n",
    "print error1_mlrs\n",
    "print error2_mlrs\n",
    "print error3_mlrs\n",
    "print error4_mlrs\n",
    "print error5_mlrs\n",
    "print error6_mlrs\n",
    "print error7_mlrs\n",
    "print error8_mlrs"
   ]
  },
  {
   "cell_type": "code",
   "execution_count": 134,
   "metadata": {
    "collapsed": false
   },
   "outputs": [
    {
     "data": {
      "text/plain": [
       "(78.789, 654.0, 406.0)"
      ]
     },
     "execution_count": 134,
     "metadata": {},
     "output_type": "execute_result"
    }
   ],
   "source": [
    "predictiveUreaSelecteddollar = predictive.map(lambda row:row.split(',')).map(lambda row: (float(row[0]), float(row[2]), float(row[3])))\n",
    "predictiveUreaSelecteddollar.first()"
   ]
  },
  {
   "cell_type": "code",
   "execution_count": 135,
   "metadata": {
    "collapsed": false
   },
   "outputs": [
    {
     "data": {
      "text/plain": [
       "LabeledPoint(406.0, [78.789,654.0])"
      ]
     },
     "execution_count": 135,
     "metadata": {},
     "output_type": "execute_result"
    }
   ],
   "source": [
    "predictiveUreaLabeleddollar = predictiveUreaSelecteddollar.map(lambda row:LabeledPoint(row[2],[row[0],row[1]]))\n",
    "predictiveUreaLabeleddollar.first()"
   ]
  },
  {
   "cell_type": "code",
   "execution_count": 136,
   "metadata": {
    "collapsed": false
   },
   "outputs": [
    {
     "data": {
      "text/plain": [
       "697"
      ]
     },
     "execution_count": 136,
     "metadata": {},
     "output_type": "execute_result"
    }
   ],
   "source": [
    "(trainingData, testData) = predictiveUreaLabeleddollar.randomSplit([0.7,0.3])\n",
    "trainingData.count()"
   ]
  },
  {
   "cell_type": "code",
   "execution_count": 137,
   "metadata": {
    "collapsed": false
   },
   "outputs": [
    {
     "data": {
      "text/plain": [
       "288"
      ]
     },
     "execution_count": 137,
     "metadata": {},
     "output_type": "execute_result"
    }
   ],
   "source": [
    "testData.count()"
   ]
  },
  {
   "cell_type": "code",
   "execution_count": 148,
   "metadata": {
    "collapsed": true
   },
   "outputs": [],
   "source": [
    "modeldollar = RandomForest.trainRegressor(trainingData, categoricalFeaturesInfo={},\n",
    "                                    numTrees=200, featureSubsetStrategy=\"auto\",\n",
    "                                    impurity='variance', maxDepth=10, maxBins=32)"
   ]
  },
  {
   "cell_type": "code",
   "execution_count": 149,
   "metadata": {
    "collapsed": false
   },
   "outputs": [
    {
     "name": "stdout",
     "output_type": "stream",
     "text": [
      "Test Mean Squared Error = 491.459158165\n"
     ]
    }
   ],
   "source": [
    "predictions = modeldollar.predict(testData.map(lambda x: x.features))\n",
    "labelsAndPredictions = testData.map(lambda lp: lp.label).zip(predictions)\n",
    "testMSE = labelsAndPredictions.map(lambda (v, p): (v - p) * (v - p)).sum() / float(testData.count())\n",
    "print('Test Mean Squared Error = ' + str(testMSE))"
   ]
  },
  {
   "cell_type": "code",
   "execution_count": 150,
   "metadata": {
    "collapsed": true
   },
   "outputs": [],
   "source": [
    "modeldollar.save(sc, \"hdfs:///user/msteinme99/sec1modeldollar\")"
   ]
  },
  {
   "cell_type": "code",
   "execution_count": 152,
   "metadata": {
    "collapsed": true
   },
   "outputs": [],
   "source": [
    "rdfModel_sec1dollar = RandomForestModel.load(sc,\"hdfs:///user/msteinme99/sec1modeldollar\")"
   ]
  },
  {
   "cell_type": "code",
   "execution_count": 153,
   "metadata": {
    "collapsed": false
   },
   "outputs": [
    {
     "data": {
      "text/plain": [
       "[246.5537813992925,\n",
       " 246.5537813992925,\n",
       " 228.69674584402938,\n",
       " 246.5537813992925,\n",
       " 246.5537813992925,\n",
       " 278.9515372541888,\n",
       " 278.9515372541888,\n",
       " 278.9515372541888]"
      ]
     },
     "execution_count": 153,
     "metadata": {},
     "output_type": "execute_result"
    }
   ],
   "source": [
    "predictions_sec1dollar = rdfModel_sec1dollar.predict(tobePredictedUrea.map(lambda x: x.split(',')))\n",
    "predictions_sec1dollar.take(8)"
   ]
  },
  {
   "cell_type": "code",
   "execution_count": 154,
   "metadata": {
    "collapsed": false
   },
   "outputs": [
    {
     "name": "stdout",
     "output_type": "stream",
     "text": [
      "6.27318163763\n",
      "7.19729626056\n",
      "7.36936424602\n",
      "17.4065625711\n",
      "15.7529490138\n",
      "30.9631630301\n",
      "30.9631630301\n",
      "30.9631630301\n"
     ]
    }
   ],
   "source": [
    "error1_d = abs(246.5537813992925- actual1)/actual1 * 100\n",
    "error2_d = abs(246.5537813992925- actual2)/actual2 * 100\n",
    "error3_d = abs(228.69674584402938 - actual3)/actual3 * 100\n",
    "error4_d = abs(246.5537813992925- actual4)/actual4 * 100\n",
    "error5_d = abs(246.5537813992925 - actual5)/actual5 * 100\n",
    "error6_d = abs(278.9515372541888 - actual6)/actual6 * 100\n",
    "error7_d = abs(278.9515372541888- actual7)/actual7 * 100\n",
    "error8_d = abs(278.9515372541888 - actual8)/actual8 * 100\n",
    "print error1_d\n",
    "print error2_d\n",
    "print error3_d\n",
    "print error4_d\n",
    "print error5_d\n",
    "print error6_d\n",
    "print error7_d\n",
    "print error8_d"
   ]
  },
  {
   "cell_type": "markdown",
   "metadata": {},
   "source": [
    "# Green markets to predict now"
   ]
  },
  {
   "cell_type": "code",
   "execution_count": 83,
   "metadata": {
    "collapsed": false
   },
   "outputs": [
    {
     "data": {
      "text/plain": [
       "3653"
      ]
     },
     "execution_count": 83,
     "metadata": {},
     "output_type": "execute_result"
    }
   ],
   "source": [
    "path = 'hdfs:///user/msteinme99/project2nolabel.csv'\n",
    "predictive_green = sc.textFile(path)\n",
    "predictive_green.count()"
   ]
  },
  {
   "cell_type": "code",
   "execution_count": 84,
   "metadata": {
    "collapsed": false
   },
   "outputs": [
    {
     "data": {
      "text/plain": [
       "u'3/1/12,78.789,109.27,654,406,5.18,76.2,1/1/96,84.76,19.06,371.5,235,2/1/14,96.71,450'"
      ]
     },
     "execution_count": 84,
     "metadata": {},
     "output_type": "execute_result"
    }
   ],
   "source": [
    "columnNames_green = ('latedate', 'Spotdollar', '2monthcrude', '2monthcorn','precipitation', 'temp', '2monthurea','earlydate','dollar', 'crude','corn','urea', 'lastdate', 'crude.1', 'urea.1')\n",
    "#this shows the first column which is to see if file connection worked\n",
    "predictive_green.first()"
   ]
  },
  {
   "cell_type": "code",
   "execution_count": 93,
   "metadata": {
    "collapsed": false
   },
   "outputs": [
    {
     "data": {
      "text/plain": [
       "(450.0, 96.71)"
      ]
     },
     "execution_count": 93,
     "metadata": {},
     "output_type": "execute_result"
    }
   ],
   "source": [
    "predictiveUreaSelected_green = predictive_green.map(lambda row:row.split(',')).map(lambda row: (float(row[14]), float(row[13])))\n",
    "predictiveUreaSelected_green.first()"
   ]
  },
  {
   "cell_type": "code",
   "execution_count": 94,
   "metadata": {
    "collapsed": false,
    "scrolled": true
   },
   "outputs": [
    {
     "ename": "Py4JJavaError",
     "evalue": "An error occurred while calling o1956.collect.\n: org.apache.spark.SparkException: Job aborted due to stage failure: Task 0 in stage 706.0 failed 4 times, most recent failure: Lost task 0.3 in stage 706.0 (TID 1367, mn600c2a0905.chsinc.ds): org.apache.spark.api.python.PythonException: Traceback (most recent call last):\n  File \"/opt/cloudera/parcels/CDH-5.4.4-1.cdh5.4.4.p0.4/jars/spark-assembly-1.3.0-cdh5.4.4-hadoop2.6.0-cdh5.4.4.jar/pyspark/worker.py\", line 101, in main\n    process()\n  File \"/opt/cloudera/parcels/CDH-5.4.4-1.cdh5.4.4.p0.4/jars/spark-assembly-1.3.0-cdh5.4.4-hadoop2.6.0-cdh5.4.4.jar/pyspark/worker.py\", line 96, in process\n    serializer.dump_stream(func(split_index, iterator), outfile)\n  File \"/opt/cloudera/parcels/CDH/lib/spark/python/pyspark/rdd.py\", line 2253, in pipeline_func\n    return func(split, prev_func(split, iterator))\n  File \"/opt/cloudera/parcels/CDH/lib/spark/python/pyspark/rdd.py\", line 2253, in pipeline_func\n    return func(split, prev_func(split, iterator))\n  File \"/opt/cloudera/parcels/CDH/lib/spark/python/pyspark/rdd.py\", line 2253, in pipeline_func\n    return func(split, prev_func(split, iterator))\n  File \"/opt/cloudera/parcels/CDH/lib/spark/python/pyspark/rdd.py\", line 270, in func\n    return f(iterator)\n  File \"/opt/cloudera/parcels/CDH/lib/spark/python/pyspark/rdd.py\", line 933, in <lambda>\n    return self.mapPartitions(lambda i: [sum(1 for _ in i)]).sum()\n  File \"/opt/cloudera/parcels/CDH/lib/spark/python/pyspark/rdd.py\", line 933, in <genexpr>\n    return self.mapPartitions(lambda i: [sum(1 for _ in i)]).sum()\n  File \"/opt/cloudera/parcels/CDH/lib/spark/python/pyspark/rddsampler.py\", line 95, in func\n    for obj in iterator:\n  File \"<ipython-input-93-78619d52183a>\", line 1, in <lambda>\nValueError: could not convert string to float: \n\n\tat org.apache.spark.api.python.PythonRDD$$anon$1.read(PythonRDD.scala:135)\n\tat org.apache.spark.api.python.PythonRDD$$anon$1.<init>(PythonRDD.scala:176)\n\tat org.apache.spark.api.python.PythonRDD.compute(PythonRDD.scala:94)\n\tat org.apache.spark.rdd.RDD.computeOrReadCheckpoint(RDD.scala:277)\n\tat org.apache.spark.rdd.RDD.iterator(RDD.scala:244)\n\tat org.apache.spark.scheduler.ResultTask.runTask(ResultTask.scala:61)\n\tat org.apache.spark.scheduler.Task.run(Task.scala:64)\n\tat org.apache.spark.executor.Executor$TaskRunner.run(Executor.scala:203)\n\tat java.util.concurrent.ThreadPoolExecutor.runWorker(ThreadPoolExecutor.java:1145)\n\tat java.util.concurrent.ThreadPoolExecutor$Worker.run(ThreadPoolExecutor.java:615)\n\tat java.lang.Thread.run(Thread.java:745)\n\nDriver stacktrace:\n\tat org.apache.spark.scheduler.DAGScheduler.org$apache$spark$scheduler$DAGScheduler$$failJobAndIndependentStages(DAGScheduler.scala:1203)\n\tat org.apache.spark.scheduler.DAGScheduler$$anonfun$abortStage$1.apply(DAGScheduler.scala:1192)\n\tat org.apache.spark.scheduler.DAGScheduler$$anonfun$abortStage$1.apply(DAGScheduler.scala:1191)\n\tat scala.collection.mutable.ResizableArray$class.foreach(ResizableArray.scala:59)\n\tat scala.collection.mutable.ArrayBuffer.foreach(ArrayBuffer.scala:47)\n\tat org.apache.spark.scheduler.DAGScheduler.abortStage(DAGScheduler.scala:1191)\n\tat org.apache.spark.scheduler.DAGScheduler$$anonfun$handleTaskSetFailed$1.apply(DAGScheduler.scala:693)\n\tat org.apache.spark.scheduler.DAGScheduler$$anonfun$handleTaskSetFailed$1.apply(DAGScheduler.scala:693)\n\tat scala.Option.foreach(Option.scala:236)\n\tat org.apache.spark.scheduler.DAGScheduler.handleTaskSetFailed(DAGScheduler.scala:693)\n\tat org.apache.spark.scheduler.DAGSchedulerEventProcessLoop.onReceive(DAGScheduler.scala:1393)\n\tat org.apache.spark.scheduler.DAGSchedulerEventProcessLoop.onReceive(DAGScheduler.scala:1354)\n\tat org.apache.spark.util.EventLoop$$anon$1.run(EventLoop.scala:48)\n",
     "output_type": "error",
     "traceback": [
      "\u001b[1;31m---------------------------------------------------------------------------\u001b[0m",
      "\u001b[1;31mPy4JJavaError\u001b[0m                             Traceback (most recent call last)",
      "\u001b[1;32m<ipython-input-94-8ce69251c55d>\u001b[0m in \u001b[0;36m<module>\u001b[1;34m()\u001b[0m\n\u001b[0;32m      1\u001b[0m \u001b[1;33m(\u001b[0m\u001b[0mtrainingData\u001b[0m\u001b[1;33m,\u001b[0m \u001b[0mtestData\u001b[0m\u001b[1;33m)\u001b[0m \u001b[1;33m=\u001b[0m \u001b[0mpredictiveUreaSelected_green\u001b[0m\u001b[1;33m.\u001b[0m\u001b[0mrandomSplit\u001b[0m\u001b[1;33m(\u001b[0m\u001b[1;33m[\u001b[0m\u001b[1;36m0.7\u001b[0m\u001b[1;33m,\u001b[0m\u001b[1;36m0.3\u001b[0m\u001b[1;33m]\u001b[0m\u001b[1;33m)\u001b[0m\u001b[1;33m\u001b[0m\u001b[0m\n\u001b[1;32m----> 2\u001b[1;33m \u001b[0mtrainingData\u001b[0m\u001b[1;33m.\u001b[0m\u001b[0mcount\u001b[0m\u001b[1;33m(\u001b[0m\u001b[1;33m)\u001b[0m\u001b[1;33m\u001b[0m\u001b[0m\n\u001b[0m",
      "\u001b[1;32m/opt/cloudera/parcels/CDH/lib/spark/python/pyspark/rdd.py\u001b[0m in \u001b[0;36mcount\u001b[1;34m(self)\u001b[0m\n\u001b[0;32m    931\u001b[0m         \u001b[1;36m3\u001b[0m\u001b[1;33m\u001b[0m\u001b[0m\n\u001b[0;32m    932\u001b[0m         \"\"\"\n\u001b[1;32m--> 933\u001b[1;33m         \u001b[1;32mreturn\u001b[0m \u001b[0mself\u001b[0m\u001b[1;33m.\u001b[0m\u001b[0mmapPartitions\u001b[0m\u001b[1;33m(\u001b[0m\u001b[1;32mlambda\u001b[0m \u001b[0mi\u001b[0m\u001b[1;33m:\u001b[0m \u001b[1;33m[\u001b[0m\u001b[0msum\u001b[0m\u001b[1;33m(\u001b[0m\u001b[1;36m1\u001b[0m \u001b[1;32mfor\u001b[0m \u001b[0m_\u001b[0m \u001b[1;32min\u001b[0m \u001b[0mi\u001b[0m\u001b[1;33m)\u001b[0m\u001b[1;33m]\u001b[0m\u001b[1;33m)\u001b[0m\u001b[1;33m.\u001b[0m\u001b[0msum\u001b[0m\u001b[1;33m(\u001b[0m\u001b[1;33m)\u001b[0m\u001b[1;33m\u001b[0m\u001b[0m\n\u001b[0m\u001b[0;32m    934\u001b[0m \u001b[1;33m\u001b[0m\u001b[0m\n\u001b[0;32m    935\u001b[0m     \u001b[1;32mdef\u001b[0m \u001b[0mstats\u001b[0m\u001b[1;33m(\u001b[0m\u001b[0mself\u001b[0m\u001b[1;33m)\u001b[0m\u001b[1;33m:\u001b[0m\u001b[1;33m\u001b[0m\u001b[0m\n",
      "\u001b[1;32m/opt/cloudera/parcels/CDH/lib/spark/python/pyspark/rdd.py\u001b[0m in \u001b[0;36msum\u001b[1;34m(self)\u001b[0m\n\u001b[0;32m    922\u001b[0m         \u001b[1;36m6.0\u001b[0m\u001b[1;33m\u001b[0m\u001b[0m\n\u001b[0;32m    923\u001b[0m         \"\"\"\n\u001b[1;32m--> 924\u001b[1;33m         \u001b[1;32mreturn\u001b[0m \u001b[0mself\u001b[0m\u001b[1;33m.\u001b[0m\u001b[0mmapPartitions\u001b[0m\u001b[1;33m(\u001b[0m\u001b[1;32mlambda\u001b[0m \u001b[0mx\u001b[0m\u001b[1;33m:\u001b[0m \u001b[1;33m[\u001b[0m\u001b[0msum\u001b[0m\u001b[1;33m(\u001b[0m\u001b[0mx\u001b[0m\u001b[1;33m)\u001b[0m\u001b[1;33m]\u001b[0m\u001b[1;33m)\u001b[0m\u001b[1;33m.\u001b[0m\u001b[0mreduce\u001b[0m\u001b[1;33m(\u001b[0m\u001b[0moperator\u001b[0m\u001b[1;33m.\u001b[0m\u001b[0madd\u001b[0m\u001b[1;33m)\u001b[0m\u001b[1;33m\u001b[0m\u001b[0m\n\u001b[0m\u001b[0;32m    925\u001b[0m \u001b[1;33m\u001b[0m\u001b[0m\n\u001b[0;32m    926\u001b[0m     \u001b[1;32mdef\u001b[0m \u001b[0mcount\u001b[0m\u001b[1;33m(\u001b[0m\u001b[0mself\u001b[0m\u001b[1;33m)\u001b[0m\u001b[1;33m:\u001b[0m\u001b[1;33m\u001b[0m\u001b[0m\n",
      "\u001b[1;32m/opt/cloudera/parcels/CDH/lib/spark/python/pyspark/rdd.py\u001b[0m in \u001b[0;36mreduce\u001b[1;34m(self, f)\u001b[0m\n\u001b[0;32m    738\u001b[0m             \u001b[1;32myield\u001b[0m \u001b[0mreduce\u001b[0m\u001b[1;33m(\u001b[0m\u001b[0mf\u001b[0m\u001b[1;33m,\u001b[0m \u001b[0miterator\u001b[0m\u001b[1;33m,\u001b[0m \u001b[0minitial\u001b[0m\u001b[1;33m)\u001b[0m\u001b[1;33m\u001b[0m\u001b[0m\n\u001b[0;32m    739\u001b[0m \u001b[1;33m\u001b[0m\u001b[0m\n\u001b[1;32m--> 740\u001b[1;33m         \u001b[0mvals\u001b[0m \u001b[1;33m=\u001b[0m \u001b[0mself\u001b[0m\u001b[1;33m.\u001b[0m\u001b[0mmapPartitions\u001b[0m\u001b[1;33m(\u001b[0m\u001b[0mfunc\u001b[0m\u001b[1;33m)\u001b[0m\u001b[1;33m.\u001b[0m\u001b[0mcollect\u001b[0m\u001b[1;33m(\u001b[0m\u001b[1;33m)\u001b[0m\u001b[1;33m\u001b[0m\u001b[0m\n\u001b[0m\u001b[0;32m    741\u001b[0m         \u001b[1;32mif\u001b[0m \u001b[0mvals\u001b[0m\u001b[1;33m:\u001b[0m\u001b[1;33m\u001b[0m\u001b[0m\n\u001b[0;32m    742\u001b[0m             \u001b[1;32mreturn\u001b[0m \u001b[0mreduce\u001b[0m\u001b[1;33m(\u001b[0m\u001b[0mf\u001b[0m\u001b[1;33m,\u001b[0m \u001b[0mvals\u001b[0m\u001b[1;33m)\u001b[0m\u001b[1;33m\u001b[0m\u001b[0m\n",
      "\u001b[1;32m/opt/cloudera/parcels/CDH/lib/spark/python/pyspark/rdd.py\u001b[0m in \u001b[0;36mcollect\u001b[1;34m(self)\u001b[0m\n\u001b[0;32m    699\u001b[0m         \"\"\"\n\u001b[0;32m    700\u001b[0m         \u001b[1;32mwith\u001b[0m \u001b[0mSCCallSiteSync\u001b[0m\u001b[1;33m(\u001b[0m\u001b[0mself\u001b[0m\u001b[1;33m.\u001b[0m\u001b[0mcontext\u001b[0m\u001b[1;33m)\u001b[0m \u001b[1;32mas\u001b[0m \u001b[0mcss\u001b[0m\u001b[1;33m:\u001b[0m\u001b[1;33m\u001b[0m\u001b[0m\n\u001b[1;32m--> 701\u001b[1;33m             \u001b[0mbytesInJava\u001b[0m \u001b[1;33m=\u001b[0m \u001b[0mself\u001b[0m\u001b[1;33m.\u001b[0m\u001b[0m_jrdd\u001b[0m\u001b[1;33m.\u001b[0m\u001b[0mcollect\u001b[0m\u001b[1;33m(\u001b[0m\u001b[1;33m)\u001b[0m\u001b[1;33m.\u001b[0m\u001b[0miterator\u001b[0m\u001b[1;33m(\u001b[0m\u001b[1;33m)\u001b[0m\u001b[1;33m\u001b[0m\u001b[0m\n\u001b[0m\u001b[0;32m    702\u001b[0m         \u001b[1;32mreturn\u001b[0m \u001b[0mlist\u001b[0m\u001b[1;33m(\u001b[0m\u001b[0mself\u001b[0m\u001b[1;33m.\u001b[0m\u001b[0m_collect_iterator_through_file\u001b[0m\u001b[1;33m(\u001b[0m\u001b[0mbytesInJava\u001b[0m\u001b[1;33m)\u001b[0m\u001b[1;33m)\u001b[0m\u001b[1;33m\u001b[0m\u001b[0m\n\u001b[0;32m    703\u001b[0m \u001b[1;33m\u001b[0m\u001b[0m\n",
      "\u001b[1;32m/opt/cloudera/parcels/CDH/lib/spark/python/lib/py4j-0.8.2.1-src.zip/py4j/java_gateway.py\u001b[0m in \u001b[0;36m__call__\u001b[1;34m(self, *args)\u001b[0m\n\u001b[0;32m    536\u001b[0m         \u001b[0manswer\u001b[0m \u001b[1;33m=\u001b[0m \u001b[0mself\u001b[0m\u001b[1;33m.\u001b[0m\u001b[0mgateway_client\u001b[0m\u001b[1;33m.\u001b[0m\u001b[0msend_command\u001b[0m\u001b[1;33m(\u001b[0m\u001b[0mcommand\u001b[0m\u001b[1;33m)\u001b[0m\u001b[1;33m\u001b[0m\u001b[0m\n\u001b[0;32m    537\u001b[0m         return_value = get_return_value(answer, self.gateway_client,\n\u001b[1;32m--> 538\u001b[1;33m                 self.target_id, self.name)\n\u001b[0m\u001b[0;32m    539\u001b[0m \u001b[1;33m\u001b[0m\u001b[0m\n\u001b[0;32m    540\u001b[0m         \u001b[1;32mfor\u001b[0m \u001b[0mtemp_arg\u001b[0m \u001b[1;32min\u001b[0m \u001b[0mtemp_args\u001b[0m\u001b[1;33m:\u001b[0m\u001b[1;33m\u001b[0m\u001b[0m\n",
      "\u001b[1;32m/opt/cloudera/parcels/CDH/lib/spark/python/lib/py4j-0.8.2.1-src.zip/py4j/protocol.py\u001b[0m in \u001b[0;36mget_return_value\u001b[1;34m(answer, gateway_client, target_id, name)\u001b[0m\n\u001b[0;32m    298\u001b[0m                 raise Py4JJavaError(\n\u001b[0;32m    299\u001b[0m                     \u001b[1;34m'An error occurred while calling {0}{1}{2}.\\n'\u001b[0m\u001b[1;33m.\u001b[0m\u001b[1;33m\u001b[0m\u001b[0m\n\u001b[1;32m--> 300\u001b[1;33m                     format(target_id, '.', name), value)\n\u001b[0m\u001b[0;32m    301\u001b[0m             \u001b[1;32melse\u001b[0m\u001b[1;33m:\u001b[0m\u001b[1;33m\u001b[0m\u001b[0m\n\u001b[0;32m    302\u001b[0m                 raise Py4JError(\n",
      "\u001b[1;31mPy4JJavaError\u001b[0m: An error occurred while calling o1956.collect.\n: org.apache.spark.SparkException: Job aborted due to stage failure: Task 0 in stage 706.0 failed 4 times, most recent failure: Lost task 0.3 in stage 706.0 (TID 1367, mn600c2a0905.chsinc.ds): org.apache.spark.api.python.PythonException: Traceback (most recent call last):\n  File \"/opt/cloudera/parcels/CDH-5.4.4-1.cdh5.4.4.p0.4/jars/spark-assembly-1.3.0-cdh5.4.4-hadoop2.6.0-cdh5.4.4.jar/pyspark/worker.py\", line 101, in main\n    process()\n  File \"/opt/cloudera/parcels/CDH-5.4.4-1.cdh5.4.4.p0.4/jars/spark-assembly-1.3.0-cdh5.4.4-hadoop2.6.0-cdh5.4.4.jar/pyspark/worker.py\", line 96, in process\n    serializer.dump_stream(func(split_index, iterator), outfile)\n  File \"/opt/cloudera/parcels/CDH/lib/spark/python/pyspark/rdd.py\", line 2253, in pipeline_func\n    return func(split, prev_func(split, iterator))\n  File \"/opt/cloudera/parcels/CDH/lib/spark/python/pyspark/rdd.py\", line 2253, in pipeline_func\n    return func(split, prev_func(split, iterator))\n  File \"/opt/cloudera/parcels/CDH/lib/spark/python/pyspark/rdd.py\", line 2253, in pipeline_func\n    return func(split, prev_func(split, iterator))\n  File \"/opt/cloudera/parcels/CDH/lib/spark/python/pyspark/rdd.py\", line 270, in func\n    return f(iterator)\n  File \"/opt/cloudera/parcels/CDH/lib/spark/python/pyspark/rdd.py\", line 933, in <lambda>\n    return self.mapPartitions(lambda i: [sum(1 for _ in i)]).sum()\n  File \"/opt/cloudera/parcels/CDH/lib/spark/python/pyspark/rdd.py\", line 933, in <genexpr>\n    return self.mapPartitions(lambda i: [sum(1 for _ in i)]).sum()\n  File \"/opt/cloudera/parcels/CDH/lib/spark/python/pyspark/rddsampler.py\", line 95, in func\n    for obj in iterator:\n  File \"<ipython-input-93-78619d52183a>\", line 1, in <lambda>\nValueError: could not convert string to float: \n\n\tat org.apache.spark.api.python.PythonRDD$$anon$1.read(PythonRDD.scala:135)\n\tat org.apache.spark.api.python.PythonRDD$$anon$1.<init>(PythonRDD.scala:176)\n\tat org.apache.spark.api.python.PythonRDD.compute(PythonRDD.scala:94)\n\tat org.apache.spark.rdd.RDD.computeOrReadCheckpoint(RDD.scala:277)\n\tat org.apache.spark.rdd.RDD.iterator(RDD.scala:244)\n\tat org.apache.spark.scheduler.ResultTask.runTask(ResultTask.scala:61)\n\tat org.apache.spark.scheduler.Task.run(Task.scala:64)\n\tat org.apache.spark.executor.Executor$TaskRunner.run(Executor.scala:203)\n\tat java.util.concurrent.ThreadPoolExecutor.runWorker(ThreadPoolExecutor.java:1145)\n\tat java.util.concurrent.ThreadPoolExecutor$Worker.run(ThreadPoolExecutor.java:615)\n\tat java.lang.Thread.run(Thread.java:745)\n\nDriver stacktrace:\n\tat org.apache.spark.scheduler.DAGScheduler.org$apache$spark$scheduler$DAGScheduler$$failJobAndIndependentStages(DAGScheduler.scala:1203)\n\tat org.apache.spark.scheduler.DAGScheduler$$anonfun$abortStage$1.apply(DAGScheduler.scala:1192)\n\tat org.apache.spark.scheduler.DAGScheduler$$anonfun$abortStage$1.apply(DAGScheduler.scala:1191)\n\tat scala.collection.mutable.ResizableArray$class.foreach(ResizableArray.scala:59)\n\tat scala.collection.mutable.ArrayBuffer.foreach(ArrayBuffer.scala:47)\n\tat org.apache.spark.scheduler.DAGScheduler.abortStage(DAGScheduler.scala:1191)\n\tat org.apache.spark.scheduler.DAGScheduler$$anonfun$handleTaskSetFailed$1.apply(DAGScheduler.scala:693)\n\tat org.apache.spark.scheduler.DAGScheduler$$anonfun$handleTaskSetFailed$1.apply(DAGScheduler.scala:693)\n\tat scala.Option.foreach(Option.scala:236)\n\tat org.apache.spark.scheduler.DAGScheduler.handleTaskSetFailed(DAGScheduler.scala:693)\n\tat org.apache.spark.scheduler.DAGSchedulerEventProcessLoop.onReceive(DAGScheduler.scala:1393)\n\tat org.apache.spark.scheduler.DAGSchedulerEventProcessLoop.onReceive(DAGScheduler.scala:1354)\n\tat org.apache.spark.util.EventLoop$$anon$1.run(EventLoop.scala:48)\n"
     ]
    }
   ],
   "source": [
    "(trainingData, testData) = predictiveUreaSelected_green.randomSplit([0.7,0.3])\n",
    "trainingData.count()"
   ]
  },
  {
   "cell_type": "code",
   "execution_count": 99,
   "metadata": {
    "collapsed": true
   },
   "outputs": [],
   "source": [
    "actual = 305\n",
    "#crude = 34.58 ,35.58,36.15,36.3,36.33,37.75,39.82,38.77\n"
   ]
  },
  {
   "cell_type": "code",
   "execution_count": 96,
   "metadata": {
    "collapsed": false
   },
   "outputs": [
    {
     "name": "stdout",
     "output_type": "stream",
     "text": [
      "316.486\n",
      "318.516\n",
      "319.6731\n",
      "319.9776\n",
      "320.0385\n",
      "322.9211\n",
      "327.1232\n",
      "324.9917\n"
     ]
    }
   ],
   "source": [
    "predmlr1 = 246.2886 + (2.0300 * 34.58)\n",
    "predmlr2 = 246.2886 + (2.0300 * 35.58)\n",
    "predmlr3 = 246.2886 + (2.0300 * 36.15)\n",
    "predmlr4 = 246.2886 + (2.0300 * 36.3)\n",
    "predmlr5 = 246.2886 + (2.0300 * 36.33)\n",
    "predmlr6 = 246.2886 + (2.0300 * 37.75)\n",
    "predmlr7 = 246.2886 + (2.0300 * 39.82)\n",
    "predmlr8 = 246.2886 + (2.0300 * 38.77)\n",
    "print predmlr1\n",
    "print predmlr2\n",
    "print predmlr3\n",
    "print predmlr4\n",
    "print predmlr5\n",
    "print predmlr6\n",
    "print predmlr7\n",
    "print predmlr8"
   ]
  },
  {
   "cell_type": "code",
   "execution_count": 100,
   "metadata": {
    "collapsed": false
   },
   "outputs": [
    {
     "name": "stdout",
     "output_type": "stream",
     "text": [
      "3.76590163934\n",
      "4.43147540984\n",
      "4.81085245902\n",
      "4.91068852459\n",
      "4.9306557377\n",
      "5.8757704918\n",
      "7.25350819672\n",
      "6.5546557377\n"
     ]
    }
   ],
   "source": [
    "error1_g = abs(predmlr1 - actual)/actual * 100\n",
    "error2_g = abs(predmlr2 - actual)/actual * 100\n",
    "error3_g = abs(predmlr3 - actual)/actual * 100\n",
    "error4_g = abs(predmlr4 - actual)/actual * 100\n",
    "error5_g = abs(predmlr5 - actual)/actual * 100\n",
    "error6_g = abs(predmlr6 - actual)/actual * 100\n",
    "error7_g = abs(predmlr7 - actual)/actual * 100\n",
    "error8_g = abs(predmlr8 - actual)/actual * 100\n",
    "print error1_g\n",
    "print error2_g\n",
    "print error3_g\n",
    "print error4_g\n",
    "print error5_g\n",
    "print error6_g\n",
    "print error7_g\n",
    "print error8_g"
   ]
  },
  {
   "cell_type": "markdown",
   "metadata": {},
   "source": [
    "# Comparing Models"
   ]
  },
  {
   "cell_type": "code",
   "execution_count": 172,
   "metadata": {
    "collapsed": false
   },
   "outputs": [
    {
     "data": {
      "text/html": [
       "<div>\n",
       "<table border=\"1\" class=\"dataframe\">\n",
       "  <thead>\n",
       "    <tr style=\"text-align: right;\">\n",
       "      <th></th>\n",
       "      <th>PredictionDates</th>\n",
       "      <th>ActualUrea</th>\n",
       "      <th>GreenActual</th>\n",
       "      <th>RDF96_05</th>\n",
       "      <th>MLR96_05</th>\n",
       "      <th>RDF_China</th>\n",
       "      <th>MLR_China</th>\n",
       "      <th>RDF_Sec1</th>\n",
       "      <th>MLR_Sec1</th>\n",
       "      <th>RDF_Sec1Dollar</th>\n",
       "      <th>MLR_Green</th>\n",
       "      <th>Error_RDF96_05</th>\n",
       "      <th>Error_MLR96_05</th>\n",
       "      <th>Error_RDF_China</th>\n",
       "      <th>Error_MLR_China</th>\n",
       "      <th>Error_RDF_Sec1</th>\n",
       "      <th>Error_MLR_Sec1</th>\n",
       "      <th>Error_RDF_Sec1Dollar</th>\n",
       "      <th>Error_Green</th>\n",
       "    </tr>\n",
       "  </thead>\n",
       "  <tbody>\n",
       "    <tr>\n",
       "      <th>0</th>\n",
       "      <td>2/26/2016</td>\n",
       "      <td>232</td>\n",
       "      <td>305</td>\n",
       "      <td>191.026775</td>\n",
       "      <td>237.648846</td>\n",
       "      <td>216.471655</td>\n",
       "      <td>227.380263</td>\n",
       "      <td>219.689336</td>\n",
       "      <td>252.744534</td>\n",
       "      <td>246.553781</td>\n",
       "      <td>316.4860</td>\n",
       "      <td>17.660873</td>\n",
       "      <td>2.434847</td>\n",
       "      <td>6.693252</td>\n",
       "      <td>1.991266</td>\n",
       "      <td>5.306321</td>\n",
       "      <td>8.941610</td>\n",
       "      <td>6.273182</td>\n",
       "      <td>3.765902</td>\n",
       "    </tr>\n",
       "    <tr>\n",
       "      <th>1</th>\n",
       "      <td>2/29/2016</td>\n",
       "      <td>230</td>\n",
       "      <td>305</td>\n",
       "      <td>192.316666</td>\n",
       "      <td>240.376329</td>\n",
       "      <td>218.772690</td>\n",
       "      <td>231.213064</td>\n",
       "      <td>222.540987</td>\n",
       "      <td>251.834468</td>\n",
       "      <td>246.553781</td>\n",
       "      <td>318.5160</td>\n",
       "      <td>16.384058</td>\n",
       "      <td>4.511447</td>\n",
       "      <td>4.881439</td>\n",
       "      <td>0.527419</td>\n",
       "      <td>3.243049</td>\n",
       "      <td>9.493247</td>\n",
       "      <td>7.197296</td>\n",
       "      <td>4.431475</td>\n",
       "    </tr>\n",
       "    <tr>\n",
       "      <th>2</th>\n",
       "      <td>3/1/2016</td>\n",
       "      <td>213</td>\n",
       "      <td>305</td>\n",
       "      <td>192.316666</td>\n",
       "      <td>241.857760</td>\n",
       "      <td>221.540089</td>\n",
       "      <td>232.688085</td>\n",
       "      <td>219.932786</td>\n",
       "      <td>250.991291</td>\n",
       "      <td>228.696746</td>\n",
       "      <td>319.6731</td>\n",
       "      <td>9.710486</td>\n",
       "      <td>13.548244</td>\n",
       "      <td>4.009432</td>\n",
       "      <td>9.243232</td>\n",
       "      <td>3.254829</td>\n",
       "      <td>17.836287</td>\n",
       "      <td>7.369364</td>\n",
       "      <td>4.810852</td>\n",
       "    </tr>\n",
       "    <tr>\n",
       "      <th>3</th>\n",
       "      <td>3/2/2016</td>\n",
       "      <td>210</td>\n",
       "      <td>305</td>\n",
       "      <td>192.316666</td>\n",
       "      <td>242.656045</td>\n",
       "      <td>221.491899</td>\n",
       "      <td>233.683119</td>\n",
       "      <td>222.540987</td>\n",
       "      <td>251.617809</td>\n",
       "      <td>246.553781</td>\n",
       "      <td>319.9776</td>\n",
       "      <td>8.420635</td>\n",
       "      <td>15.550498</td>\n",
       "      <td>5.472333</td>\n",
       "      <td>11.277676</td>\n",
       "      <td>5.971898</td>\n",
       "      <td>19.818004</td>\n",
       "      <td>17.406563</td>\n",
       "      <td>4.910689</td>\n",
       "    </tr>\n",
       "    <tr>\n",
       "      <th>4</th>\n",
       "      <td>3/3/2016</td>\n",
       "      <td>213</td>\n",
       "      <td>305</td>\n",
       "      <td>192.316666</td>\n",
       "      <td>243.521256</td>\n",
       "      <td>226.476387</td>\n",
       "      <td>237.310604</td>\n",
       "      <td>222.540987</td>\n",
       "      <td>253.891288</td>\n",
       "      <td>246.553781</td>\n",
       "      <td>320.0385</td>\n",
       "      <td>9.710486</td>\n",
       "      <td>14.329228</td>\n",
       "      <td>6.326942</td>\n",
       "      <td>11.413429</td>\n",
       "      <td>4.479336</td>\n",
       "      <td>19.197788</td>\n",
       "      <td>15.752949</td>\n",
       "      <td>4.930656</td>\n",
       "    </tr>\n",
       "    <tr>\n",
       "      <th>5</th>\n",
       "      <td>3/4/2016</td>\n",
       "      <td>213</td>\n",
       "      <td>305</td>\n",
       "      <td>192.316666</td>\n",
       "      <td>249.132250</td>\n",
       "      <td>228.084637</td>\n",
       "      <td>242.044366</td>\n",
       "      <td>235.267435</td>\n",
       "      <td>255.265277</td>\n",
       "      <td>278.951537</td>\n",
       "      <td>322.9211</td>\n",
       "      <td>9.710486</td>\n",
       "      <td>16.963498</td>\n",
       "      <td>7.081989</td>\n",
       "      <td>13.635853</td>\n",
       "      <td>10.454195</td>\n",
       "      <td>19.842853</td>\n",
       "      <td>30.963163</td>\n",
       "      <td>5.875770</td>\n",
       "    </tr>\n",
       "    <tr>\n",
       "      <th>6</th>\n",
       "      <td>3/7/2016</td>\n",
       "      <td>213</td>\n",
       "      <td>305</td>\n",
       "      <td>210.575992</td>\n",
       "      <td>256.740906</td>\n",
       "      <td>251.230167</td>\n",
       "      <td>249.290152</td>\n",
       "      <td>252.266207</td>\n",
       "      <td>256.424826</td>\n",
       "      <td>278.951537</td>\n",
       "      <td>327.1232</td>\n",
       "      <td>1.138032</td>\n",
       "      <td>20.535637</td>\n",
       "      <td>17.948435</td>\n",
       "      <td>17.037630</td>\n",
       "      <td>18.434839</td>\n",
       "      <td>20.387242</td>\n",
       "      <td>30.963163</td>\n",
       "      <td>7.253508</td>\n",
       "    </tr>\n",
       "    <tr>\n",
       "      <th>7</th>\n",
       "      <td>3/8/2016</td>\n",
       "      <td>213</td>\n",
       "      <td>305</td>\n",
       "      <td>192.316666</td>\n",
       "      <td>253.053106</td>\n",
       "      <td>240.224583</td>\n",
       "      <td>244.882039</td>\n",
       "      <td>252.266207</td>\n",
       "      <td>255.909952</td>\n",
       "      <td>278.951537</td>\n",
       "      <td>324.9917</td>\n",
       "      <td>9.710486</td>\n",
       "      <td>18.804275</td>\n",
       "      <td>12.781495</td>\n",
       "      <td>14.968093</td>\n",
       "      <td>18.434839</td>\n",
       "      <td>20.145517</td>\n",
       "      <td>30.963163</td>\n",
       "      <td>6.554656</td>\n",
       "    </tr>\n",
       "  </tbody>\n",
       "</table>\n",
       "</div>"
      ],
      "text/plain": [
       "  PredictionDates  ActualUrea  GreenActual    RDF96_05    MLR96_05  \\\n",
       "0       2/26/2016         232          305  191.026775  237.648846   \n",
       "1       2/29/2016         230          305  192.316666  240.376329   \n",
       "2        3/1/2016         213          305  192.316666  241.857760   \n",
       "3        3/2/2016         210          305  192.316666  242.656045   \n",
       "4        3/3/2016         213          305  192.316666  243.521256   \n",
       "5        3/4/2016         213          305  192.316666  249.132250   \n",
       "6        3/7/2016         213          305  210.575992  256.740906   \n",
       "7        3/8/2016         213          305  192.316666  253.053106   \n",
       "\n",
       "    RDF_China   MLR_China    RDF_Sec1    MLR_Sec1  RDF_Sec1Dollar  MLR_Green  \\\n",
       "0  216.471655  227.380263  219.689336  252.744534      246.553781   316.4860   \n",
       "1  218.772690  231.213064  222.540987  251.834468      246.553781   318.5160   \n",
       "2  221.540089  232.688085  219.932786  250.991291      228.696746   319.6731   \n",
       "3  221.491899  233.683119  222.540987  251.617809      246.553781   319.9776   \n",
       "4  226.476387  237.310604  222.540987  253.891288      246.553781   320.0385   \n",
       "5  228.084637  242.044366  235.267435  255.265277      278.951537   322.9211   \n",
       "6  251.230167  249.290152  252.266207  256.424826      278.951537   327.1232   \n",
       "7  240.224583  244.882039  252.266207  255.909952      278.951537   324.9917   \n",
       "\n",
       "   Error_RDF96_05  Error_MLR96_05  Error_RDF_China  Error_MLR_China  \\\n",
       "0       17.660873        2.434847         6.693252         1.991266   \n",
       "1       16.384058        4.511447         4.881439         0.527419   \n",
       "2        9.710486       13.548244         4.009432         9.243232   \n",
       "3        8.420635       15.550498         5.472333        11.277676   \n",
       "4        9.710486       14.329228         6.326942        11.413429   \n",
       "5        9.710486       16.963498         7.081989        13.635853   \n",
       "6        1.138032       20.535637        17.948435        17.037630   \n",
       "7        9.710486       18.804275        12.781495        14.968093   \n",
       "\n",
       "   Error_RDF_Sec1  Error_MLR_Sec1  Error_RDF_Sec1Dollar  Error_Green  \n",
       "0        5.306321        8.941610              6.273182     3.765902  \n",
       "1        3.243049        9.493247              7.197296     4.431475  \n",
       "2        3.254829       17.836287              7.369364     4.810852  \n",
       "3        5.971898       19.818004             17.406563     4.910689  \n",
       "4        4.479336       19.197788             15.752949     4.930656  \n",
       "5       10.454195       19.842853             30.963163     5.875770  \n",
       "6       18.434839       20.387242             30.963163     7.253508  \n",
       "7       18.434839       20.145517             30.963163     6.554656  "
      ]
     },
     "execution_count": 172,
     "metadata": {},
     "output_type": "execute_result"
    }
   ],
   "source": [
    "import pandas as pd\n",
    "pred = pd.read_csv('modelerror.csv')\n",
    "pred[0:8]\n"
   ]
  },
  {
   "cell_type": "code",
   "execution_count": 164,
   "metadata": {
    "collapsed": false
   },
   "outputs": [
    {
     "data": {
      "image/png": "[encoded data removed]",
      "text/plain": [
       "<matplotlib.figure.Figure at 0x7fc01f05edd0>"
      ]
     },
     "metadata": {},
     "output_type": "display_data"
    }
   ],
   "source": [
    "import matplotlib.pyplot as plt\n",
    "%matplotlib inline\n",
    "\n",
    "#not green market\n",
    "m1 = (pred['ActualUrea'])\n",
    "m2 = (pred['RDF96_05'])\n",
    "m3 = (pred['MLR96_05'])\n",
    "m4 = (pred['RDF_China'])\n",
    "m5 = (pred['MLR_China'])\n",
    "m6 = (pred['RDF_Sec1'])\n",
    "m7 = (pred['MLR_Sec1'])\n",
    "m8 = (pred['RDF_Sec1Dollar'])\n",
    "m9 = (pred['MLR_Green'])\n",
    "m10 = (pred['GreenActual'])\n",
    "plt.figure(figsize=(16,12))\n",
    "plt.plot(m1,'r')\n",
    "plt.plot(m2,'b')\n",
    "plt.plot(m3,'g')\n",
    "plt.plot(m4,'y')\n",
    "plt.plot(m5,'k')\n",
    "plt.plot(m6,'m')\n",
    "plt.plot(m7,'c')\n",
    "plt.plot(m8,'lightgreen')\n",
    "\n",
    "plt.ylabel('Amount')\n",
    "plt.title('Trend')\n",
    "plt.show()"
   ]
  },
  {
   "cell_type": "code",
   "execution_count": 175,
   "metadata": {
    "collapsed": false
   },
   "outputs": [
    {
     "data": {
      "image/png": "[encoded data removed]",
      "text/plain": [
       "<matplotlib.figure.Figure at 0x7fc0168032d0>"
      ]
     },
     "metadata": {},
     "output_type": "display_data"
    }
   ],
   "source": [
    "plt.figure(figsize=(8,6))\n",
    "plt.plot(m9,'r')\n",
    "plt.plot(m10,'b')  #on baseline\n",
    "plt.ylim(300,330)\n",
    "plt.ylabel('Amount')\n",
    "plt.title('Trend')\n",
    "plt.show()"
   ]
  },
  {
   "cell_type": "code",
   "execution_count": 177,
   "metadata": {
    "collapsed": false
   },
   "outputs": [
    {
     "data": {
      "image/png": "[encoded data removed]",
      "text/plain": [
       "<matplotlib.figure.Figure at 0x7fc016835210>"
      ]
     },
     "metadata": {},
     "output_type": "display_data"
    }
   ],
   "source": [
    "em2 = (pred['Error_RDF96_05'])\n",
    "em3 = (pred['Error_MLR96_05'])\n",
    "em4 = (pred['Error_RDF_China'])\n",
    "em5 = (pred['Error_MLR_China'])\n",
    "em6 = (pred['Error_RDF_Sec1'])\n",
    "em7 = (pred['Error_MLR_Sec1'])\n",
    "em8 = (pred['Error_RDF_Sec1Dollar'])\n",
    "em9 = (pred['Error_Green'])\n",
    "plt.figure(figsize=(16,12))\n",
    "plt.plot(em2,'b')\n",
    "plt.plot(em3,'g')\n",
    "plt.plot(em4,'y')\n",
    "plt.plot(em5,'k')\n",
    "plt.plot(em6,'m')\n",
    "plt.plot(em7,'c')\n",
    "plt.plot(em8,'lightgreen')\n",
    "plt.plot(em9,'r')\n",
    "\n",
    "plt.ylabel('Amount')\n",
    "plt.title('Error Trend')\n",
    "plt.show()"
   ]
  },
  {
   "cell_type": "code",
   "execution_count": 186,
   "metadata": {
    "collapsed": false
   },
   "outputs": [
    {
     "name": "stdout",
     "output_type": "stream",
     "text": [
      "Error_RDF96_05: 10.306\n",
      "Error_MLR96_05: 13.335\n",
      "Error_RDF_China: 8.149\n",
      "Error_MLR_China: 10.012\n",
      "Error_RDF_Sec1: 8.697\n",
      "Error_MLR_Sec1: 16.958\n",
      "Error_RDF_Sec1Dollar: 18.361\n",
      "Error_Green: 5.317\n"
     ]
    }
   ],
   "source": [
    "#each models average error\n",
    "av1 = pred['Error_RDF96_05'].mean()\n",
    "av2 = pred['Error_MLR96_05'].mean()\n",
    "av3 = pred['Error_RDF_China'].mean()\n",
    "av4 = pred['Error_MLR_China'].mean()\n",
    "av5 = pred['Error_RDF_Sec1'].mean()\n",
    "av6 = pred['Error_MLR_Sec1'].mean()\n",
    "av7 = pred['Error_RDF_Sec1Dollar'].mean()\n",
    "av8 = pred['Error_Green'].mean()\n",
    "\n",
    "print 'Error_RDF96_05: %.3f' % av1\n",
    "print 'Error_MLR96_05: %.3f' % av2\n",
    "print 'Error_RDF_China: %.3f' % av3\n",
    "print 'Error_MLR_China: %.3f' % av4\n",
    "print 'Error_RDF_Sec1: %.3f' % av5\n",
    "print 'Error_MLR_Sec1: %.3f' % av6\n",
    "print 'Error_RDF_Sec1Dollar: %.3f' % av7\n",
    "print 'Error_Green: %.3f' % av8"
   ]
  },
  {
   "cell_type": "code",
   "execution_count": null,
   "metadata": {
    "collapsed": true
   },
   "outputs": [],
   "source": []
  }
 ],
 "metadata": {
  "kernelspec": {
   "display_name": "Python 2",
   "language": "python",
   "name": "python2"
  },
  "language_info": {
   "codemirror_mode": {
    "name": "ipython",
    "version": 2
   },
   "file_extension": ".py",
   "mimetype": "text/x-python",
   "name": "python",
   "nbconvert_exporter": "python",
   "pygments_lexer": "ipython2",
   "version": "2.7.10"
  }
 },
 "nbformat": 4,
 "nbformat_minor": 0
}
