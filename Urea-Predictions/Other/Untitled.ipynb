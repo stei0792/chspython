{
 "cells": [
  {
   "cell_type": "code",
   "execution_count": 20,
   "metadata": {
    "collapsed": false
   },
   "outputs": [
    {
     "ename": "NameError",
     "evalue": "name 'subset' is not defined",
     "output_type": "error",
     "traceback": [
      "\u001b[1;31m---------------------------------------------------------------------------\u001b[0m",
      "\u001b[1;31mNameError\u001b[0m                                 Traceback (most recent call last)",
      "\u001b[1;32m<ipython-input-20-6f7e3a1a03c9>\u001b[0m in \u001b[0;36m<module>\u001b[1;34m()\u001b[0m\n\u001b[0;32m      1\u001b[0m \u001b[0mapi_key\u001b[0m  \u001b[1;33m=\u001b[0m \u001b[1;34m\"d35a1f70a0f565c5b6015c47140e2a28\"\u001b[0m\u001b[1;33m\u001b[0m\u001b[0m\n\u001b[1;32m----> 2\u001b[1;33m \u001b[0mlat\u001b[0m\u001b[1;33m,\u001b[0m \u001b[0mlng\u001b[0m \u001b[1;33m=\u001b[0m \u001b[0msubset\u001b[0m\u001b[1;33m.\u001b[0m\u001b[0mlat\u001b[0m\u001b[1;33m.\u001b[0m\u001b[0mmean\u001b[0m\u001b[1;33m(\u001b[0m\u001b[1;33m)\u001b[0m\u001b[1;33m,\u001b[0m \u001b[0msubset\u001b[0m\u001b[1;33m.\u001b[0m\u001b[0mlong\u001b[0m\u001b[1;33m.\u001b[0m\u001b[0mmean\u001b[0m\u001b[1;33m(\u001b[0m\u001b[1;33m)\u001b[0m  \u001b[1;31m# find a point in the middle of the four stations\u001b[0m\u001b[1;33m\u001b[0m\u001b[0m\n\u001b[0m\u001b[0;32m      3\u001b[0m \u001b[0mtime\u001b[0m \u001b[1;33m=\u001b[0m \u001b[0mpd\u001b[0m\u001b[1;33m.\u001b[0m\u001b[0mdatetime\u001b[0m\u001b[1;33m(\u001b[0m\u001b[1;36m2015\u001b[0m\u001b[1;33m,\u001b[0m \u001b[1;36m1\u001b[0m\u001b[1;33m,\u001b[0m \u001b[1;36m1\u001b[0m\u001b[1;33m,\u001b[0m \u001b[1;36m1\u001b[0m\u001b[1;33m)\u001b[0m                 \u001b[1;31m# 1am on New Year's Day\u001b[0m\u001b[1;33m\u001b[0m\u001b[0m\n\u001b[0;32m      4\u001b[0m \u001b[1;33m\u001b[0m\u001b[0m\n\u001b[0;32m      5\u001b[0m \u001b[1;31m# make the API call.\u001b[0m\u001b[1;33m\u001b[0m\u001b[1;33m\u001b[0m\u001b[0m\n",
      "\u001b[1;31mNameError\u001b[0m: name 'subset' is not defined"
     ]
    }
   ],
   "source": [
    "api_key  = \"d35a1f70a0f565c5b6015c47140e2a28\"\n",
    "lat, lng = subset.lat.mean(), subset.long.mean()  # find a point in the middle of the four stations\n",
    "time = pd.datetime(2015, 1, 1, 1)                 # 1am on New Year's Day\n",
    "\n",
    "# make the API call.\n",
    "forecast = forecastio.load_forecast(api_key, lat, lng, time=time, units=\"si\")\n"
   ]
  },
  {
   "cell_type": "code",
   "execution_count": 34,
   "metadata": {
    "collapsed": false
   },
   "outputs": [
    {
     "data": {
      "text/plain": [
       "<forecastio.models.Forecast at 0x72ca898>"
      ]
     },
     "execution_count": 34,
     "metadata": {},
     "output_type": "execute_result"
    }
   ],
   "source": [
    "import forecastio\n",
    "\n",
    "api_key = \"83bd3a689cc49f98cc2fef47129ba289\"\n",
    "lat = -31.967819\n",
    "lng = 115.87718\n",
    "\n",
    "forecast = forecastio.load_forecast(api_key, lat, lng)\n",
    "forecast"
   ]
  },
  {
   "cell_type": "code",
   "execution_count": 27,
   "metadata": {
    "collapsed": false
   },
   "outputs": [
    {
     "name": "stdout",
     "output_type": "stream",
     "text": [
      "<ForecastioDataPoint instance: Clear at 2016-05-26 16:20:44>\n"
     ]
    }
   ],
   "source": [
    "print(forecast.currently())\n"
   ]
  },
  {
   "cell_type": "code",
   "execution_count": 28,
   "metadata": {
    "collapsed": false
   },
   "outputs": [
    {
     "name": "stdout",
     "output_type": "stream",
     "text": [
      "Clear throughout the day.\n",
      "clear-day\n"
     ]
    }
   ],
   "source": [
    "byHour = forecast.hourly()\n",
    "print (byHour.summary)\n",
    "print (byHour.icon)"
   ]
  },
  {
   "cell_type": "code",
   "execution_count": 32,
   "metadata": {
    "collapsed": false
   },
   "outputs": [
    {
     "name": "stdout",
     "output_type": "stream",
     "text": [
      "11.68\n",
      "11.4\n",
      "11.14\n",
      "10.84\n",
      "10.36\n",
      "9.87\n",
      "9.66\n",
      "10.18\n",
      "11.09\n",
      "12.62\n",
      "14.55\n",
      "16.32\n",
      "17.83\n",
      "19.14\n",
      "19.8\n",
      "19.21\n",
      "18.07\n",
      "16.89\n",
      "15.86\n",
      "14.89\n",
      "14.2\n",
      "13.94\n",
      "13.95\n",
      "13.96\n",
      "13.83\n",
      "13.71\n",
      "13.72\n",
      "13.94\n",
      "14.29\n",
      "14.71\n",
      "15.09\n",
      "15.51\n",
      "16.02\n",
      "16.71\n",
      "17.48\n",
      "18.15\n",
      "18.71\n",
      "19.11\n",
      "19.17\n",
      "18.39\n",
      "17.16\n",
      "16.02\n",
      "15.19\n",
      "14.59\n",
      "14.19\n",
      "13.94\n",
      "13.69\n",
      "13.27\n",
      "12.94\n"
     ]
    }
   ],
   "source": [
    "for hourlyData in byHour.data:\n",
    "        print (hourlyData.temperature)"
   ]
  },
  {
   "cell_type": "code",
   "execution_count": 38,
   "metadata": {
    "collapsed": false
   },
   "outputs": [
    {
     "name": "stdout",
     "output_type": "stream",
     "text": [
      "<ForecastioDataPoint instance: Clear at 2016-05-26 16:33:18>\n"
     ]
    }
   ],
   "source": [
    "print(forecast.currently())\n"
   ]
  },
  {
   "cell_type": "code",
   "execution_count": 39,
   "metadata": {
    "collapsed": false
   },
   "outputs": [
    {
     "ename": "SyntaxError",
     "evalue": "invalid syntax (<ipython-input-39-2aba529c14b3>, line 1)",
     "output_type": "error",
     "traceback": [
      "\u001b[1;36m  File \u001b[1;32m\"<ipython-input-39-2aba529c14b3>\"\u001b[1;36m, line \u001b[1;32m1\u001b[0m\n\u001b[1;33m    $ python setup.py build $ python setup.py install\u001b[0m\n\u001b[1;37m    ^\u001b[0m\n\u001b[1;31mSyntaxError\u001b[0m\u001b[1;31m:\u001b[0m invalid syntax\n"
     ]
    }
   ],
   "source": [
    "$ python setup.py build $ python setup.py install "
   ]
  },
  {
   "cell_type": "code",
   "execution_count": 43,
   "metadata": {
    "collapsed": false
   },
   "outputs": [],
   "source": [
    "\"\"\"\n",
    "Fetches weather reports from Yahoo! Weather\n",
    "\n",
    "Written by Thomas Upton (http://www.thomasupton.com/),\n",
    "with contributions from Chris Lasher (http://igotgenes.blogspot.com/).\n",
    "\n",
    "This code is licensed under a BY-NC-SA Creative Commons license.\n",
    "http://creativecommons.org/licenses/by-nc-sa/3.0/us/\n",
    "\n",
    "See http://www.thomasupton.com/blog/?p=202 for more information.\n",
    "\"\"\"\n",
    "\n",
    "import sys\n",
    "import urllib\n",
    "from argparse import ArgumentParser\n",
    "from xml.dom.minidom import parse\n",
    "\n",
    "# Yahoo!'s limit on the number of days they will forecast\n",
    "DAYS_LIMIT = 2\n",
    "WEATHER_URL = 'http://xml.weather.yahoo.com/forecastrss?p=%s'\n",
    "METRIC_PARAMETER = '&u=c'\n",
    "WEATHER_NS = 'http://xml.weather.yahoo.com/ns/rss/1.0'\n",
    "\n",
    "def get_weather(location_code, options):\n",
    "    \"\"\"\n",
    "    Fetches weather report from Yahoo!\n",
    "\n",
    "    :Parameters:\n",
    "    -`location_code`: A five digit US zip code.\n",
    "    -`days`: number of days to obtain forecasts\n",
    "\n",
    "    :Returns:\n",
    "    -`weather_data`: a dictionary of weather data\n",
    "    \"\"\"\n",
    "\n",
    "    # Get the correct weather url.\n",
    "    url = WEATHER_URL % location_code\n",
    "\n",
    "    if options.metric:\n",
    "        url = url + METRIC_PARAMETER\n",
    "\n",
    "    # Parse the XML feed.\n",
    "    try:\n",
    "        dom = parse(urllib.urlopen(url))\n",
    "    except Exception:\n",
    "        return None\n",
    "\n",
    "    # Get the units of the current feed.\n",
    "    yunits = dom.getElementsByTagNameNS(WEATHER_NS, 'units')[0]\n",
    "\n",
    "    # Get the location of the specified location code.\n",
    "    ylocation = dom.getElementsByTagNameNS(WEATHER_NS, 'location')[0]\n",
    "\n",
    "    # Get the current conditions.\n",
    "    ycondition = dom.getElementsByTagNameNS(WEATHER_NS, 'condition')[0]\n",
    "\n",
    "    # Hold the forecast in a hash.\n",
    "    forecasts = []\n",
    "\n",
    "    # Walk the DOM in order to find the forecast nodes.\n",
    "    for i, node in enumerate(dom.getElementsByTagNameNS(WEATHER_NS, 'forecast')):\n",
    "\n",
    "        # Stop if the number of obtained forecasts equals the number of requested days\n",
    "        if i >= options.forecast:\n",
    "            break\n",
    "        else:\n",
    "            # Insert the forecast into the forcast dictionary.\n",
    "            forecasts.append({\n",
    "                'date': node.getAttribute('date'),\n",
    "                'low': node.getAttribute('low'),\n",
    "                'high': node.getAttribute('high'),\n",
    "                'condition': node.getAttribute('text')\n",
    "            })\n",
    "\n",
    "    # Return a dictionary of the weather that we just parsed.\n",
    "    weather_data = {\n",
    "        'current_condition': ycondition.getAttribute('text'),\n",
    "        'current_temp': ycondition.getAttribute('temp'),\n",
    "        'forecasts': forecasts,\n",
    "        'units': yunits.getAttribute('temperature'),\n",
    "        'city': ylocation.getAttribute('city'),\n",
    "        'region': ylocation.getAttribute('region'),\n",
    "    }\n",
    "\n",
    "    return weather_data\n",
    "\n",
    "def create_report(weather_data, options):\n",
    "    \"\"\"\n",
    "    Constructs a weather report as a string.\n",
    "\n",
    "    :Parameters:\n",
    "    -`weather_data`: a dictionary of weather data\n",
    "    -`options`: options to determine output selections\n",
    "\n",
    "    :Returns:\n",
    "    -`report_str`: a formatted string reporting weather\n",
    "\n",
    "    \"\"\"\n",
    "\n",
    "    if weather_data is None:\n",
    "        return None\n",
    "\n",
    "    report = []\n",
    "\n",
    "    if options.location:\n",
    "        if options.verbose:\n",
    "            # Add the location header.\n",
    "            report.append(\"Location:\")\n",
    "\n",
    "        # Add the location.\n",
    "        location_str = \"%(city)s %(region)s\\n\" % weather_data\n",
    "        report.append(location_str)\n",
    "\n",
    "    if not options.nocurr:\n",
    "        if options.verbose:\n",
    "            # Add current conditions header.\n",
    "            report.append(\"Current conditions:\")\n",
    "\n",
    "        # Add the current weather.\n",
    "        curr_str = \"\"\n",
    "        # degree = u\"\\xb0\"\n",
    "        degree = \"\"\n",
    "        if not options.conditions:\n",
    "            curr_str = curr_str + \"%(current_temp)s\" % weather_data + degree + \\\n",
    "                       \"%(units)s\" % weather_data\n",
    "\n",
    "        if not options.conditions and not options.temperature:\n",
    "            curr_str = curr_str + options.delim.decode('string_escape')\n",
    "\n",
    "        if not options.temperature:\n",
    "            curr_str = curr_str + \"%(current_condition)s\\n\" % weather_data\n",
    "\n",
    "        report.append(curr_str)\n",
    "\n",
    "    if options.forecast > 0:\n",
    "        if options.verbose:\n",
    "            # Add the forecast header.\n",
    "            report.append(\"Forecast:\")\n",
    "\n",
    "        # Add the forecasts.\n",
    "        for forecast in weather_data['forecasts']:\n",
    "\n",
    "            forecast['units'] = weather_data['units']\n",
    "\n",
    "            forecast_str = \"\"\"\\\n",
    "  %(date)s\n",
    "    High: %(high)s%(units)s\n",
    "    Low: %(low)s%(units)s\n",
    "    Conditions: %(condition)s\"\"\" % forecast\n",
    "\n",
    "            report.append(forecast_str)\n",
    "\n",
    "    report_str = \"\\n\".join(report)\n",
    "\n",
    "    return report_str\n",
    "\n",
    "def create_cli_parser():\n",
    "    \"\"\"\n",
    "    Creates a command line interface parser.\n",
    "    \"\"\"\n",
    "\n",
    "    cli_parser = ArgumentParser(description=__doc__)\n",
    "\n",
    "    cli_parser.add_argument('location_code',\n",
    "        help=\"The location code for the region you want to retrieve weather for. See http://developer.yahoo.com/weather/#req\"\"\")\n",
    "\n",
    "    # Add the CLI options\n",
    "    cli_parser.add_argument('-n', '--nocurr', action='store_true',\n",
    "        help=\"suppress reporting the current weather conditions\",\n",
    "        default=False)\n",
    "\n",
    "    cli_parser.add_argument('-d', '--delim', action='store',\n",
    "        help=\"use the given string as a delimiter between the temperature and the conditions\",\n",
    "        default=\" and \")\n",
    "\n",
    "    cli_parser.add_argument('-f', '--forecast', action='store', type=int,\n",
    "        help=\"show the forecast for DAYS days\",\n",
    "        default=0)\n",
    "\n",
    "    cli_parser.add_argument('-l', '--location', action='store_true',\n",
    "        help=\"print the location of the weather\",\n",
    "        default=False)\n",
    "\n",
    "    cli_parser.add_argument('-m', '--metric', action='store_true',\n",
    "        help=\"show the temperature in metric units (C)\",\n",
    "        default=False)\n",
    "\n",
    "    cli_parser.add_argument('-v', '--verbose', action='store_true',\n",
    "        help=\"print the weather section headers\",\n",
    "        default=False)\n",
    "\n",
    "    cli_parser.add_argument('-t', '--temperature', action=\"store_true\",\n",
    "        help=\"print only the current temperature\",\n",
    "        default=False)\n",
    "\n",
    "    cli_parser.add_argument('-c', '--conditions', action=\"store_true\",\n",
    "        help=\"print only the current conditions\",\n",
    "        default=False)\n",
    "\n",
    "    cli_parser.add_argument('-o', '--output', action='store',\n",
    "        help=\"print the weather conditions to a specified file name\",\n",
    "        default=\"\")\n",
    "\n",
    "    return cli_parser\n",
    "\n",
    "def main(argv):\n",
    "    \"\"\"\n",
    "    Main entry point of this file. Parses argv, gets weather, then emits output\n",
    "    \"\"\"\n",
    "\n",
    "    # Create the command line parser.\n",
    "    cli_parser = create_cli_parser()\n",
    "\n",
    "    # Get the options and arguments.\n",
    "    args = cli_parser.parse_args(argv)\n",
    "\n",
    "    # Limit the requested forecast days.\n",
    "    if args.forecast > DAYS_LIMIT or args.forecast < 0:\n",
    "        cli_parser.error(\"Days to forecast must be between 0 and %d\"\n",
    "                         % DAYS_LIMIT)\n",
    "\n",
    "    # Get the weather.\n",
    "    weather = get_weather(args.location_code, args)\n",
    "\n",
    "    # Create the report.\n",
    "    report = create_report(weather, args)\n",
    "\n",
    "    if report is None:\n",
    "        return -1\n",
    "    else:\n",
    "        if args.output == '':\n",
    "            print (report)\n",
    "        else:\n",
    "            # Write the weather conditions to a file\n",
    "            try:\n",
    "                with open(args.output, \"w\") as output_file:\n",
    "                    output_file.writelines(report)\n",
    "            except IOError:\n",
    "                print (\"Unable to open file \" + args.output + \" for output\")\n",
    "\n",
    "#if __name__ == \"__main__\":\n",
    "#    main(sys.argv[1:])\n"
   ]
  },
  {
   "cell_type": "code",
   "execution_count": 46,
   "metadata": {
    "collapsed": false
   },
   "outputs": [
    {
     "ename": "AttributeError",
     "evalue": "'int' object has no attribute 'metric'",
     "output_type": "error",
     "traceback": [
      "\u001b[1;31m---------------------------------------------------------------------------\u001b[0m",
      "\u001b[1;31mAttributeError\u001b[0m                            Traceback (most recent call last)",
      "\u001b[1;32m<ipython-input-46-5d4178ba7dbf>\u001b[0m in \u001b[0;36m<module>\u001b[1;34m()\u001b[0m\n\u001b[1;32m----> 1\u001b[1;33m \u001b[0mget_weather\u001b[0m\u001b[1;33m(\u001b[0m\u001b[1;36m54729\u001b[0m\u001b[1;33m,\u001b[0m\u001b[1;36m1\u001b[0m\u001b[1;33m)\u001b[0m\u001b[1;33m\u001b[0m\u001b[0m\n\u001b[0m",
      "\u001b[1;32m<ipython-input-43-3040d169c1d8>\u001b[0m in \u001b[0;36mget_weather\u001b[1;34m(location_code, options)\u001b[0m\n\u001b[0;32m     37\u001b[0m     \u001b[0murl\u001b[0m \u001b[1;33m=\u001b[0m \u001b[0mWEATHER_URL\u001b[0m \u001b[1;33m%\u001b[0m \u001b[0mlocation_code\u001b[0m\u001b[1;33m\u001b[0m\u001b[0m\n\u001b[0;32m     38\u001b[0m \u001b[1;33m\u001b[0m\u001b[0m\n\u001b[1;32m---> 39\u001b[1;33m     \u001b[1;32mif\u001b[0m \u001b[0moptions\u001b[0m\u001b[1;33m.\u001b[0m\u001b[0mmetric\u001b[0m\u001b[1;33m:\u001b[0m\u001b[1;33m\u001b[0m\u001b[0m\n\u001b[0m\u001b[0;32m     40\u001b[0m         \u001b[0murl\u001b[0m \u001b[1;33m=\u001b[0m \u001b[0murl\u001b[0m \u001b[1;33m+\u001b[0m \u001b[0mMETRIC_PARAMETER\u001b[0m\u001b[1;33m\u001b[0m\u001b[0m\n\u001b[0;32m     41\u001b[0m \u001b[1;33m\u001b[0m\u001b[0m\n",
      "\u001b[1;31mAttributeError\u001b[0m: 'int' object has no attribute 'metric'"
     ]
    }
   ],
   "source": [
    "get_weather(54729,1)"
   ]
  },
  {
   "cell_type": "code",
   "execution_count": null,
   "metadata": {
    "collapsed": true
   },
   "outputs": [],
   "source": []
  }
 ],
 "metadata": {
  "kernelspec": {
   "display_name": "Python 3",
   "language": "python",
   "name": "python3"
  },
  "language_info": {
   "codemirror_mode": {
    "name": "ipython",
    "version": 3
   },
   "file_extension": ".py",
   "mimetype": "text/x-python",
   "name": "python",
   "nbconvert_exporter": "python",
   "pygments_lexer": "ipython3",
   "version": "3.5.1"
  }
 },
 "nbformat": 4,
 "nbformat_minor": 0
}
